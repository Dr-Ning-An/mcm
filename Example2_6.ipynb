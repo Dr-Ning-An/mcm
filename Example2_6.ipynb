{
 "cells": [
  {
   "cell_type": "code",
   "execution_count": 1,
   "id": "53f5f177",
   "metadata": {},
   "outputs": [],
   "source": [
    "import numpy as np"
   ]
  },
  {
   "cell_type": "code",
   "execution_count": 2,
   "id": "89f47004",
   "metadata": {},
   "outputs": [],
   "source": [
    "# 定义已知应力分量\n",
    "sigma1 = 2.0*1.0E6; #Pa\n",
    "sigma2 = -3.0*1.0E6; #Pa\n",
    "tau12 = 4.0*1.0e6; #Pa"
   ]
  },
  {
   "cell_type": "code",
   "execution_count": 3,
   "id": "752c15a0",
   "metadata": {},
   "outputs": [],
   "source": [
    "# 定义已知工程常数\n",
    "E1 = 181.0*1.0E9; #Pa\n",
    "E2 = 10.3*1.0E9; #Pa\n",
    "v12 = 0.28;\n",
    "G12 = 7.17*1.0E9; #Pa"
   ]
  },
  {
   "cell_type": "code",
   "execution_count": 4,
   "id": "2844408a",
   "metadata": {},
   "outputs": [
    {
     "name": "stdout",
     "output_type": "stream",
     "text": [
      "S11 = 5.524861878453039e-12 Pa-1\n",
      "S12 = -1.546961325966851e-12 Pa-1\n",
      "S22 = 9.70873786407767e-11 Pa-1\n",
      "S66 = 1.394700139470014e-10 Pa-1\n"
     ]
    }
   ],
   "source": [
    "# 根据工程常数计算柔度矩阵的系数\n",
    "S11 = 1/E1;\n",
    "S12 = -v12/E1;\n",
    "S22 = 1/E2;\n",
    "S66 = 1/G12;\n",
    "# 打印计算结果\n",
    "print(\"S11 =\", S11, \"Pa-1\")\n",
    "print(\"S12 =\", S12, \"Pa-1\")\n",
    "print(\"S22 =\", S22, \"Pa-1\")\n",
    "print(\"S66 =\", S66, \"Pa-1\")"
   ]
  },
  {
   "cell_type": "code",
   "execution_count": 5,
   "id": "4c3d82fa",
   "metadata": {},
   "outputs": [
    {
     "name": "stdout",
     "output_type": "stream",
     "text": [
      "Compliance matrix = \n",
      " [[ 5.52486188e-12 -1.54696133e-12  0.00000000e+00]\n",
      " [-1.54696133e-12  9.70873786e-11  0.00000000e+00]\n",
      " [ 0.00000000e+00  0.00000000e+00  1.39470014e-10]] \n",
      " Unit: Pa-1\n"
     ]
    }
   ],
   "source": [
    "# 初始化柔度矩阵\n",
    "S = np.zeros((3,3))\n",
    "# 将柔度矩阵的非零元素依次赋值；注意Python的编码从0开始。\n",
    "S[0][0] = S11;\n",
    "S[0][1] = S12;\n",
    "S[1][0] = S[0][1];\n",
    "S[1][1] = S22;\n",
    "S[2][2] = S66;\n",
    "# 打印柔度矩阵\n",
    "print(\"Compliance matrix = \\n\", S, \"\\n Unit: Pa-1\")"
   ]
  },
  {
   "cell_type": "code",
   "execution_count": 6,
   "id": "cec159cb",
   "metadata": {},
   "outputs": [
    {
     "name": "stdout",
     "output_type": "stream",
     "text": [
      "v21 = 0.015933701657458565\n"
     ]
    }
   ],
   "source": [
    "# 计算次泊松比，并打印\n",
    "v21 = v12/E1*E2;\n",
    "print(\"v21 =\",v21)"
   ]
  },
  {
   "cell_type": "code",
   "execution_count": 19,
   "id": "aabb4a67",
   "metadata": {},
   "outputs": [
    {
     "name": "stdout",
     "output_type": "stream",
     "text": [
      "Reduced stiffness matrix =\n",
      " [[1.81811139e+11 2.89692444e+09 0.00000000e+00]\n",
      " [2.89692444e+09 1.03461587e+10 0.00000000e+00]\n",
      " [0.00000000e+00 0.00000000e+00 7.17000000e+09]] \n",
      " Unit: Pa\n"
     ]
    }
   ],
   "source": [
    "# 矩阵运算求解折减刚度矩阵\n",
    "Q = np.linalg.inv(S)\n",
    "print(\"Reduced stiffness matrix =\\n\", Q, \"\\n Unit: Pa\")"
   ]
  },
  {
   "cell_type": "code",
   "execution_count": 18,
   "id": "83bbd343",
   "metadata": {},
   "outputs": [
    {
     "name": "stdout",
     "output_type": "stream",
     "text": [
      "strain = \n",
      " [[ 1.56906077e-05]\n",
      " [-2.94356059e-04]\n",
      " [ 5.57880056e-04]]\n"
     ]
    }
   ],
   "source": [
    "# 定义应力、应变矢量\n",
    "stress = np.zeros((3,1))\n",
    "strain = np.zeros((3,1))\n",
    "# 给应力矢量赋值\n",
    "stress[0] = sigma1;\n",
    "stress[1] = sigma2;\n",
    "stress[2] = tau12;\n",
    "# 矩阵运算求解应变矢量\n",
    "strain = np.matmul(S, stress);\n",
    "# 打印计算结果\n",
    "print(\"strain = \\n\", strain)"
   ]
  }
 ],
 "metadata": {
  "kernelspec": {
   "display_name": "Python 3 (ipykernel)",
   "language": "python",
   "name": "python3"
  },
  "language_info": {
   "codemirror_mode": {
    "name": "ipython",
    "version": 3
   },
   "file_extension": ".py",
   "mimetype": "text/x-python",
   "name": "python",
   "nbconvert_exporter": "python",
   "pygments_lexer": "ipython3",
   "version": "3.9.12"
  }
 },
 "nbformat": 4,
 "nbformat_minor": 5
}
