{
  "nbformat": 4,
  "nbformat_minor": 0,
  "metadata": {
    "colab": {
      "provenance": [],
      "authorship_tag": "ABX9TyOoin/0jkIBYXLY0NqHQJG6",
      "include_colab_link": true
    },
    "kernelspec": {
      "name": "python3",
      "display_name": "Python 3"
    },
    "language_info": {
      "name": "python"
    }
  },
  "cells": [
    {
      "cell_type": "markdown",
      "metadata": {
        "id": "view-in-github",
        "colab_type": "text"
      },
      "source": [
        "<a href=\"https://colab.research.google.com/github/Dr-Ning-An/mcm/blob/main/Chapter5.ipynb\" target=\"_parent\"><img src=\"https://colab.research.google.com/assets/colab-badge.svg\" alt=\"Open In Colab\"/></a>"
      ]
    },
    {
      "cell_type": "code",
      "execution_count": 39,
      "metadata": {
        "id": "KS4ezVv1OEkg"
      },
      "outputs": [],
      "source": [
        "###### Example 5.3 starts here #######"
      ]
    },
    {
      "cell_type": "code",
      "source": [
        "import numpy as np # 导入numpy"
      ],
      "metadata": {
        "id": "enZq29spOzv7"
      },
      "execution_count": 40,
      "outputs": []
    },
    {
      "cell_type": "code",
      "source": [
        "# 定义函数由单层板的工程常数计算单层板折减刚度矩阵Q\n",
        "def transform_engineeringConstants(E1, E2, v12, G12):\n",
        "    # 根据工程常数计算柔度矩阵的系数\n",
        "    S11 = 1/E1;\n",
        "    S12 = -v12/E1;\n",
        "    S22 = 1/E2;\n",
        "    S66 = 1/G12;\n",
        "    # 初始化柔度矩阵\n",
        "    S = np.zeros((3,3))\n",
        "    # 将柔度矩阵的非零元素依次赋值；注意Python的编码从0开始。\n",
        "    S[0][0] = S11;\n",
        "    S[0][1] = S12;\n",
        "    S[1][0] = S[0][1];\n",
        "    S[1][1] = S22;\n",
        "    S[2][2] = S66;\n",
        "    # 矩阵运算求解折减刚度矩阵\n",
        "    Q = np.linalg.inv(S)\n",
        "    return Q"
      ],
      "metadata": {
        "id": "JcEkasKASlEr"
      },
      "execution_count": 41,
      "outputs": []
    },
    {
      "cell_type": "code",
      "source": [
        "# 定义函数由单层板折减刚度矩阵Q和铺层角度，计算单层板在全局坐标系下的折减刚度矩阵Q_bar\n",
        "def transform_Q(Q, theta):\n",
        "    # 计算转换矩阵 T\n",
        "    c = np.cos(theta*np.pi/180.0)\n",
        "    s = np.sin(theta*np.pi/180.0)\n",
        "    T = np.zeros((3,3))\n",
        "    T[0][0] = c**2;\n",
        "    T[0][1] = s**2;\n",
        "    T[0][2] = 2.0*c*s;\n",
        "    T[1][0] = s**2;\n",
        "    T[1][1] = c**2;\n",
        "    T[1][2] = -2.0*c*s;\n",
        "    T[2][0] = -s*c;\n",
        "    T[2][1] = s*c;\n",
        "    T[2][2] = c**2-s**2;\n",
        "    # 定义R矩阵\n",
        "    R = np.zeros((3,3))\n",
        "    R[0][0] = 1;\n",
        "    R[1][1] = 1;\n",
        "    R[2][2] = 2;\n",
        "    # 计算全局折减刚度矩阵\n",
        "    Q_bar = np.linalg.multi_dot([np.linalg.inv(T), Q, R, T, np.linalg.inv(R)])\n",
        "    return Q_bar"
      ],
      "metadata": {
        "id": "7J4PzyRHSmA3"
      },
      "execution_count": 42,
      "outputs": []
    },
    {
      "cell_type": "code",
      "source": [
        "def height(thickness):\n",
        "    # thickness = np.array([5, 5, 5]) # 每一层单层板厚度\n",
        "    ply_num = len(thickness)\n",
        "    h_total = np.sum(thickness[0:ply_num]) # 层合板总厚度\n",
        "    height = np.zeros(ply_num+1)\n",
        "    #Create array storing the heights of k plies about the midplane\n",
        "    for k in range(0, ply_num+1):\n",
        "        height[k]= - h_total/2.0 + np.sum(thickness[0:k])\n",
        "    return height"
      ],
      "metadata": {
        "id": "88LzUQOiSoH8"
      },
      "execution_count": 43,
      "outputs": []
    },
    {
      "cell_type": "code",
      "source": [
        "def strain(thickness, strain_0, curvature_0): # 已知层合板中性层应变和曲率，求解层合板任意一层的应变分布\n",
        "    # thickness = np.array([5, 5, 5])\n",
        "    # strain_0, curvature_0 中性层应变+曲率，6x1\n",
        "    ply_num = len(thickness)\n",
        "    height = np.zeros(ply_num+1)\n",
        "    strain = np.zeros([ply_num+1, 3])\n",
        "    for k in range(0, ply_num+1):\n",
        "      strain[k,:] = (strain_0 + height[k]*curvature_0).T\n",
        "    return strain"
      ],
      "metadata": {
        "id": "i61Huj7ha8Eu"
      },
      "execution_count": 57,
      "outputs": []
    },
    {
      "cell_type": "code",
      "source": [
        "def ABD_matrix(Q, statck, thickness):\n",
        "    A = np.zeros([3, 3])\n",
        "    B = np.zeros([3, 3])\n",
        "    D = np.zeros([3, 3])\n",
        "    h = height(thickness)\n",
        "    for i in range(3):\n",
        "        for j in range(3):\n",
        "            for k in range(len(h)-1):\n",
        "                Q_bar = transform_Q(Q, statck[k])\n",
        "                ply_kA = h[k+1] - h[k]\n",
        "                ply_kB = (h[k+1]**2 - h[k]**2)/2\n",
        "                ply_kD = (h[k+1]**3 - h[k]**3)/3\n",
        "                A[i,j] = A[i,j] + ply_kA * Q_bar[i,j]\n",
        "                B[i,j] = B[i,j] + ply_kB * Q_bar[i,j]\n",
        "                D[i,j] = D[i,j] + ply_kD * Q_bar[i,j]\n",
        "    # 将3个3x3的A，B，D矩阵组装称为一个6x6的ABD矩阵\n",
        "    ABD_matrix = np.concatenate((np.concatenate((A, B), axis = 0), np.concatenate((B, D), axis = 0)), axis = 1)\n",
        "    return ABD_matrix"
      ],
      "metadata": {
        "id": "2Y839pSjSqM7"
      },
      "execution_count": 45,
      "outputs": []
    },
    {
      "cell_type": "code",
      "source": [
        "# 定义碳环氧单层板已知工程常数\n",
        "E1 = 181.0*1.0E9; #Pa\n",
        "E2 = 10.3*1.0E9; #Pa\n",
        "v12 = 0.28;\n",
        "G12 = 7.17*1.0E9; #Pa"
      ],
      "metadata": {
        "id": "T2FVw6ugO6Dg"
      },
      "execution_count": 46,
      "outputs": []
    },
    {
      "cell_type": "code",
      "source": [
        "# 由单层板工程常数计算单层板折减刚度矩阵: Q矩阵\n",
        "Q = transform_engineeringConstants(E1, E2, v12, G12)\n",
        "print(\"折减刚度矩阵：Q =\\n\", Q, \"\\n Unit: Pa\")"
      ],
      "metadata": {
        "colab": {
          "base_uri": "https://localhost:8080/"
        },
        "id": "WJyPdvvFPjH9",
        "outputId": "da910f22-f7f7-4ad4-a576-c39ef5bd52ef"
      },
      "execution_count": 47,
      "outputs": [
        {
          "output_type": "stream",
          "name": "stdout",
          "text": [
            "折减刚度矩阵：Q =\n",
            " [[1.81811139e+11 2.89692444e+09 0.00000000e+00]\n",
            " [2.89692444e+09 1.03461587e+10 0.00000000e+00]\n",
            " [0.00000000e+00 0.00000000e+00 7.17000000e+09]] \n",
            " Unit: Pa\n"
          ]
        }
      ]
    },
    {
      "cell_type": "code",
      "source": [
        "# 由单层板折减刚度矩阵Q，以及铺层方式、厚度等求解层合板ABD矩阵\n",
        "thickness = np.array([0.005, 0.005, 0.005])\n",
        "statck = np.array([0, 90, 0])\n",
        "ABD = ABD_matrix(Q, statck, thickness)\n",
        "print(\"ABD矩阵：ABD = \\n\", ABD)"
      ],
      "metadata": {
        "colab": {
          "base_uri": "https://localhost:8080/"
        },
        "id": "OOFpJEROP5Xu",
        "outputId": "98d59a6b-5de1-44d8-bec7-bee0cfd84ba2"
      },
      "execution_count": 48,
      "outputs": [
        {
          "output_type": "stream",
          "name": "stdout",
          "text": [
            "ABD矩阵：ABD = \n",
            " [[ 1.86984218e+09  4.34538667e+07  2.10968854e-09 -9.31322575e-10\n",
            "   0.00000000e+00  1.07218542e-27]\n",
            " [ 4.34538667e+07  1.01251728e+09  5.03863212e-08  0.00000000e+00\n",
            "   4.07453626e-10  2.56073245e-26]\n",
            " [ 2.10968854e-09  5.03863212e-08  1.07550000e+08  1.07218542e-27\n",
            "   2.56073245e-26  2.91038305e-11]\n",
            " [-9.31322575e-10  0.00000000e+00  1.07218542e-27  4.93482893e+04\n",
            "   8.14760000e+02  4.39518447e-15]\n",
            " [ 0.00000000e+00  4.07453626e-10  2.56073245e-26  8.14760000e+02\n",
            "   4.69595069e+03  1.04971503e-13]\n",
            " [ 1.07218542e-27  2.56073245e-26  2.91038305e-11  4.39518447e-15\n",
            "   1.04971503e-13  2.01656250e+03]]\n"
          ]
        }
      ]
    },
    {
      "cell_type": "code",
      "source": [
        "# 利用层合板宏观力学分析，计算中性面的应变和曲率；\n",
        "# 按照预设载荷比例，施加单位载荷。\n",
        "Load = np.array([[1.0], [0.0], [0.0], [0.0], [0.0], [0.0]]) # 题目要求计算单轴拉伸，设置Nx为1，其余项为0\n",
        "# 中性层的变形为\n",
        "Deformation = np.linalg.multi_dot([np.linalg.inv(ABD), Load])\n",
        "# 其中中性层的应变和曲率分别为：\n",
        "Strain_0 = np.array([Deformation[0], Deformation[1], Deformation[2]])\n",
        "print(\"中性层应变：Strain_0 = \\n\", Strain_0)\n",
        "Curvature_0 = np.array([Deformation[3], Deformation[4], Deformation[5]])\n",
        "print(\"中性层曲率：Curvature_0 = \\n\", Curvature_0)"
      ],
      "metadata": {
        "colab": {
          "base_uri": "https://localhost:8080/"
        },
        "id": "Ym4g1N34VWcn",
        "outputId": "530a460a-a74c-4e33-e7f7-a661416da1b7"
      },
      "execution_count": 49,
      "outputs": [
        {
          "output_type": "stream",
          "name": "stdout",
          "text": [
            "中性层应变：Strain_0 = \n",
            " [[ 5.35338415e-10]\n",
            " [-2.29749403e-11]\n",
            " [ 2.62439807e-28]]\n",
            "中性层曲率：Curvature_0 = \n",
            " [[ 1.00991586e-23]\n",
            " [ 2.41235978e-25]\n",
            " [-3.12431998e-41]]\n"
          ]
        }
      ]
    },
    {
      "cell_type": "code",
      "source": [
        "# 计算每一层单层板在全局坐标系下的应变，每层单层板依次计算上中下三个平面的应变\n",
        "# 第一层 strain_1 6x6\n",
        "z1 = np.array([-0.075, -0.05, -0.025])\n",
        "strain_1 = np.zeros([3, 3])\n",
        "stress_1 = np.zeros([3, 3])\n",
        "for i in range(3):\n",
        "  strain_1[i,:] = (Strain_0 + z1[i]*Curvature_0).T\n",
        "  stress_1[i,:] = (np.linalg.multi_dot([transform_Q(Q, 0.0), strain_1[i,:].T])).T\n",
        "print(\"第一层单层板全局坐标系上、中、下表面应变： strain_1 = \\n\", strain_1)\n",
        "print(\"第一层单层板全局坐标系上、中、下表面应力： stress_1 = \\n\", stress_1)\n"
      ],
      "metadata": {
        "colab": {
          "base_uri": "https://localhost:8080/"
        },
        "id": "xNdL8e5BfkmR",
        "outputId": "a5ef0c03-3ff3-459f-c20c-3717e0ed295a"
      },
      "execution_count": 81,
      "outputs": [
        {
          "output_type": "stream",
          "name": "stdout",
          "text": [
            "第一层单层板全局坐标系上、中、下表面应变： strain_1 = \n",
            " [[ 5.35338415e-10 -2.29749403e-11  2.62439807e-28]\n",
            " [ 5.35338415e-10 -2.29749403e-11  2.62439807e-28]\n",
            " [ 5.35338415e-10 -2.29749403e-11  2.62439807e-28]]\n",
            "第一层单层板全局坐标系上、中、下表面应力： stress_1 = \n",
            " [[9.72639302e+01 1.31313256e+00 1.88169342e-18]\n",
            " [9.72639302e+01 1.31313256e+00 1.88169342e-18]\n",
            " [9.72639302e+01 1.31313256e+00 1.88169342e-18]]\n"
          ]
        }
      ]
    },
    {
      "cell_type": "code",
      "source": [
        "# 第二层 strain_2 6x6\n",
        "z2 = np.array([-0.025, 0.0, 0.025])\n",
        "strain_2 = np.zeros([3, 3])\n",
        "stress_2 = np.zeros([3, 3])\n",
        "for i in range(3):\n",
        "  strain_2[i,:] = (Strain_0 + z2[i]*Curvature_0).T\n",
        "  stress_2[i,:] = (np.linalg.multi_dot([transform_Q(Q, 90.0), strain_2[i,:].T])).T\n",
        "print(\"第二层单层板全局坐标系上、中、下表面应变： strain_2 = \\n\", strain_2)\n",
        "print(\"第二层单层板全局坐标系上、中、下表面应力： stress_2 = \\n\", stress_2)"
      ],
      "metadata": {
        "colab": {
          "base_uri": "https://localhost:8080/"
        },
        "id": "_CBPAsIShuGv",
        "outputId": "08e68325-6878-4434-fcc8-46d0940d7102"
      },
      "execution_count": 82,
      "outputs": [
        {
          "output_type": "stream",
          "name": "stdout",
          "text": [
            "第二层单层板全局坐标系上、中、下表面应变： strain_2 = \n",
            " [[ 5.35338415e-10 -2.29749403e-11  2.62439807e-28]\n",
            " [ 5.35338415e-10 -2.29749403e-11  2.62439807e-28]\n",
            " [ 5.35338415e-10 -2.29749403e-11  2.62439807e-28]]\n",
            "第一层单层板全局坐标系上、中、下表面应力： stress_2 = \n",
            " [[ 5.47213955e+00 -2.62626512e+00 -3.76338683e-18]\n",
            " [ 5.47213955e+00 -2.62626512e+00 -3.76338683e-18]\n",
            " [ 5.47213955e+00 -2.62626512e+00 -3.76338683e-18]]\n"
          ]
        }
      ]
    },
    {
      "cell_type": "code",
      "source": [
        "# 第三层 strain_3 6x6\n",
        "z3 = np.array([-0.025, 0.0, 0.025])\n",
        "strain_3 = np.zeros([3, 3])\n",
        "stress_3 = np.zeros([3, 3])\n",
        "for i in range(3):\n",
        "  strain_3[i,:] = (Strain_0 + z2[i]*Curvature_0).T\n",
        "  stress_3[i,:] = (np.linalg.multi_dot([transform_Q(Q, 0.0), strain_3[i,:].T])).T\n",
        "print(\"第三层单层板全局坐标系上、中、下表面应变： strain_3 = \\n\", strain_3)\n",
        "print(\"第三层单层板全局坐标系上、中、下表面应力： stress_3 = \\n\", stress_3)"
      ],
      "metadata": {
        "colab": {
          "base_uri": "https://localhost:8080/"
        },
        "id": "5p0IPpo_h5T1",
        "outputId": "a3727f2c-ecdf-4f26-fbf6-5d7ab09472e1"
      },
      "execution_count": 83,
      "outputs": [
        {
          "output_type": "stream",
          "name": "stdout",
          "text": [
            "第三层单层板全局坐标系上、中、下表面应变： strain_3 = \n",
            " [[ 5.35338415e-10 -2.29749403e-11  2.62439807e-28]\n",
            " [ 5.35338415e-10 -2.29749403e-11  2.62439807e-28]\n",
            " [ 5.35338415e-10 -2.29749403e-11  2.62439807e-28]]\n",
            "第三层单层板全局坐标系上、中、下表面应力： stress_3 = \n",
            " [[9.72639302e+01 1.31313256e+00 1.88169342e-18]\n",
            " [9.72639302e+01 1.31313256e+00 1.88169342e-18]\n",
            " [9.72639302e+01 1.31313256e+00 1.88169342e-18]]\n"
          ]
        }
      ]
    }
  ]
}