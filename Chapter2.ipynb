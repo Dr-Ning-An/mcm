{
 "cells": [
  {
   "cell_type": "code",
   "execution_count": 1,
   "id": "53f5f177",
   "metadata": {},
   "outputs": [],
   "source": [
    "####### Example 2.6 starts here #######"
   ]
  },
  {
   "cell_type": "code",
   "execution_count": 2,
   "id": "d3476bae",
   "metadata": {},
   "outputs": [],
   "source": [
    "import numpy as np"
   ]
  },
  {
   "cell_type": "code",
   "execution_count": 3,
   "id": "752c15a0",
   "metadata": {},
   "outputs": [],
   "source": [
    "# 定义已知工程常数\n",
    "E1 = 181.0*1.0E9; #Pa\n",
    "E2 = 10.3*1.0E9; #Pa\n",
    "v12 = 0.28;\n",
    "G12 = 7.17*1.0E9; #Pa"
   ]
  },
  {
   "cell_type": "code",
   "execution_count": 4,
   "id": "2844408a",
   "metadata": {},
   "outputs": [
    {
     "name": "stdout",
     "output_type": "stream",
     "text": [
      "S11 = 5.524861878453039e-12 Pa-1\n",
      "S12 = -1.546961325966851e-12 Pa-1\n",
      "S22 = 9.70873786407767e-11 Pa-1\n",
      "S66 = 1.394700139470014e-10 Pa-1\n"
     ]
    }
   ],
   "source": [
    "# 根据工程常数计算柔度矩阵的系数\n",
    "S11 = 1/E1;\n",
    "S12 = -v12/E1;\n",
    "S22 = 1/E2;\n",
    "S66 = 1/G12;\n",
    "# 打印计算结果\n",
    "print(\"S11 =\", S11, \"Pa-1\")\n",
    "print(\"S12 =\", S12, \"Pa-1\")\n",
    "print(\"S22 =\", S22, \"Pa-1\")\n",
    "print(\"S66 =\", S66, \"Pa-1\")"
   ]
  },
  {
   "cell_type": "code",
   "execution_count": 5,
   "id": "4c3d82fa",
   "metadata": {},
   "outputs": [
    {
     "name": "stdout",
     "output_type": "stream",
     "text": [
      "Compliance matrix = \n",
      " [[ 5.52486188e-12 -1.54696133e-12  0.00000000e+00]\n",
      " [-1.54696133e-12  9.70873786e-11  0.00000000e+00]\n",
      " [ 0.00000000e+00  0.00000000e+00  1.39470014e-10]] \n",
      " Unit: Pa-1\n"
     ]
    }
   ],
   "source": [
    "# 初始化柔度矩阵\n",
    "S = np.zeros((3,3))\n",
    "# 将柔度矩阵的非零元素依次赋值；注意Python的编码从0开始。\n",
    "S[0][0] = S11;\n",
    "S[0][1] = S12;\n",
    "S[1][0] = S[0][1];\n",
    "S[1][1] = S22;\n",
    "S[2][2] = S66;\n",
    "# 打印柔度矩阵\n",
    "print(\"Compliance matrix = \\n\", S, \"\\n Unit: Pa-1\")"
   ]
  },
  {
   "cell_type": "code",
   "execution_count": 6,
   "id": "cec159cb",
   "metadata": {},
   "outputs": [
    {
     "name": "stdout",
     "output_type": "stream",
     "text": [
      "v21 = 0.015933701657458565\n"
     ]
    }
   ],
   "source": [
    "# 计算次泊松比，并打印\n",
    "v21 = v12/E1*E2;\n",
    "print(\"v21 =\",v21)"
   ]
  },
  {
   "cell_type": "code",
   "execution_count": 7,
   "id": "aabb4a67",
   "metadata": {},
   "outputs": [
    {
     "name": "stdout",
     "output_type": "stream",
     "text": [
      "Reduced stiffness matrix =\n",
      " [[1.81811139e+11 2.89692444e+09 0.00000000e+00]\n",
      " [2.89692444e+09 1.03461587e+10 0.00000000e+00]\n",
      " [0.00000000e+00 0.00000000e+00 7.17000000e+09]] \n",
      " Unit: Pa\n"
     ]
    }
   ],
   "source": [
    "# 矩阵运算求解折减刚度矩阵\n",
    "Q = np.linalg.inv(S)\n",
    "print(\"Reduced stiffness matrix =\\n\", Q, \"\\n Unit: Pa\")"
   ]
  },
  {
   "cell_type": "code",
   "execution_count": 8,
   "id": "2f25c862",
   "metadata": {},
   "outputs": [],
   "source": [
    "# 定义已知应力分量\n",
    "sigma1 = 2.0*1.0E6; #Pa\n",
    "sigma2 = -3.0*1.0E6; #Pa\n",
    "tau12 = 4.0*1.0e6; #Pa"
   ]
  },
  {
   "cell_type": "code",
   "execution_count": 9,
   "id": "83bbd343",
   "metadata": {},
   "outputs": [
    {
     "name": "stdout",
     "output_type": "stream",
     "text": [
      "strain = \n",
      " [[ 1.56906077e-05]\n",
      " [-2.94356059e-04]\n",
      " [ 5.57880056e-04]]\n"
     ]
    }
   ],
   "source": [
    "# 定义应力、应变矢量\n",
    "stress = np.zeros((3,1))\n",
    "strain = np.zeros((3,1))\n",
    "# 给应力矢量赋值\n",
    "stress[0] = sigma1;\n",
    "stress[1] = sigma2;\n",
    "stress[2] = tau12;\n",
    "# 矩阵运算求解应变矢量\n",
    "strain = np.matmul(S, stress);\n",
    "# 打印计算结果\n",
    "print(\"strain = \\n\", strain)"
   ]
  },
  {
   "cell_type": "code",
   "execution_count": 10,
   "id": "a0a194dc",
   "metadata": {},
   "outputs": [],
   "source": [
    "####### Example 2.7 starts here #######"
   ]
  },
  {
   "cell_type": "code",
   "execution_count": 11,
   "id": "82df541c",
   "metadata": {},
   "outputs": [],
   "source": [
    "import math"
   ]
  },
  {
   "cell_type": "code",
   "execution_count": 12,
   "id": "14048616",
   "metadata": {},
   "outputs": [
    {
     "name": "stdout",
     "output_type": "stream",
     "text": [
      "Transformation matrix =\n",
      " [[ 0.25       0.75       0.8660254]\n",
      " [ 0.75       0.25      -0.8660254]\n",
      " [-0.4330127  0.4330127 -0.5      ]]\n"
     ]
    }
   ],
   "source": [
    "# 计算转换矩阵 T\n",
    "theta = 60/180*math.pi; # rad\n",
    "c = np.cos(theta)\n",
    "s = np.sin(theta)\n",
    "T = np.zeros((3,3))\n",
    "T[0][0] = c**2;\n",
    "T[0][1] = s**2;\n",
    "T[0][2] = 2.0*c*s;\n",
    "T[1][0] = s**2;\n",
    "T[1][1] = c**2;\n",
    "T[1][2] = -2.0*c*s;\n",
    "T[2][0] = -s*c;\n",
    "T[2][1] = s*c;\n",
    "T[2][2] = c**2-s**2;\n",
    "# 打印转换矩阵 T\n",
    "print(\"Transformation matrix =\\n\", T)"
   ]
  },
  {
   "cell_type": "code",
   "execution_count": 13,
   "id": "3ddd4778",
   "metadata": {},
   "outputs": [
    {
     "name": "stdout",
     "output_type": "stream",
     "text": [
      "[[1. 0. 0.]\n",
      " [0. 1. 0.]\n",
      " [0. 0. 2.]]\n"
     ]
    }
   ],
   "source": [
    "# 定义R矩阵\n",
    "R = np.zeros((3,3))\n",
    "R[0][0] = 1;\n",
    "R[1][1] = 1;\n",
    "R[2][2] = 2;\n",
    "# 打印R矩阵\n",
    "print(R)"
   ]
  },
  {
   "cell_type": "code",
   "execution_count": 14,
   "id": "e55327da",
   "metadata": {},
   "outputs": [
    {
     "name": "stdout",
     "output_type": "stream",
     "text": [
      "Transfomed reduced stiffness matrix, Q_bar =\n",
      " [[2.36467571e+10 3.24625711e+10 2.00535231e+10]\n",
      " [3.24625711e+10 1.09379247e+11 5.41929912e+10]\n",
      " [2.00535231e+10 5.41929912e+10 3.67356466e+10]] \n",
      " Unit: Pa\n"
     ]
    }
   ],
   "source": [
    "# 计算全局折减刚度矩阵\n",
    "Q_bar = np.linalg.multi_dot([np.linalg.inv(T), Q, R, T, np.linalg.inv(R)])\n",
    "# 打印全局折减刚度矩阵\n",
    "print(\"Transfomed reduced stiffness matrix, Q_bar =\\n\", Q_bar, \"\\n Unit: Pa\")"
   ]
  },
  {
   "cell_type": "code",
   "execution_count": 15,
   "id": "84d02827",
   "metadata": {},
   "outputs": [
    {
     "name": "stdout",
     "output_type": "stream",
     "text": [
      "Transformed compliance matrix, S_bar =\n",
      " [[ 8.05274715e-11 -7.87768335e-12 -3.23376446e-11]\n",
      " [-7.87768335e-12  3.47462131e-11 -4.69578209e-11]\n",
      " [-3.23376446e-11 -4.69578209e-11  1.14147126e-10]] \n",
      " Unit: Pa-1\n"
     ]
    }
   ],
   "source": [
    "# 计算全局柔度矩阵\n",
    "S_bar = np.linalg.inv(Q_bar)\n",
    "# 打印全局柔度矩阵\n",
    "print(\"Transformed compliance matrix, S_bar =\\n\", S_bar, \"\\n Unit: Pa-1\")"
   ]
  },
  {
   "cell_type": "code",
   "execution_count": 16,
   "id": "e48db6e0",
   "metadata": {},
   "outputs": [
    {
     "name": "stdout",
     "output_type": "stream",
     "text": [
      "Global stresses, stress_xyz =\n",
      " [[ 2000000.]\n",
      " [-3000000.]\n",
      " [ 4000000.]] \n",
      " Unit: Pa\n"
     ]
    }
   ],
   "source": [
    "# 定义全局坐标系应力分量  已知条件\n",
    "sigma_x = 2.0*1.0E6; #Pa\n",
    "sigma_y = -3.0*1.0E6; #Pa\n",
    "tau_xy = 4.0*1.0e6; #Pa\n",
    "# 全局坐标系应力矢量表达\n",
    "stress_xyz = np.zeros((3,1))\n",
    "stress_xyz[0] = sigma_x;\n",
    "stress_xyz[1] = sigma_y;\n",
    "stress_xyz[2] = tau_xy;\n",
    "# 打印全局坐标系应力矢量\n",
    "print(\"Global stresses, stress_xyz =\\n\", stress_xyz, \"\\n Unit: Pa\")"
   ]
  },
  {
   "cell_type": "code",
   "execution_count": 17,
   "id": "65c40853",
   "metadata": {},
   "outputs": [
    {
     "name": "stdout",
     "output_type": "stream",
     "text": [
      "Global strains, strain_xyz =\n",
      " [[ 5.53374144e-05]\n",
      " [-3.07825290e-04]\n",
      " [ 5.32786677e-04]]\n"
     ]
    }
   ],
   "source": [
    "# 利用全局柔度矩阵S_bar计算全局坐标系应变分量\n",
    "strain_xyz = np.linalg.multi_dot([S_bar, stress_xyz])\n",
    "# 打印全局坐标系应变矢量\n",
    "print(\"Global strains, strain_xyz =\\n\", strain_xyz)"
   ]
  },
  {
   "cell_type": "code",
   "execution_count": 18,
   "id": "10400484",
   "metadata": {},
   "outputs": [
    {
     "name": "stdout",
     "output_type": "stream",
     "text": [
      "Local stresses, stress =\n",
      " [[ 1714101.61513776]\n",
      " [-2714101.61513776]\n",
      " [-4165063.5094611 ]] \n",
      " Unit: Pa\n"
     ]
    }
   ],
   "source": [
    "# 利用转换矩阵T计算局部坐标系下的应力矢量\n",
    "stress = np.linalg.multi_dot([T, stress_xyz])\n",
    "# 打印局部坐标系下的应力矢量\n",
    "print(\"Local stresses, stress =\\n\", stress, \"\\n Unit: Pa\")"
   ]
  },
  {
   "cell_type": "code",
   "execution_count": 19,
   "id": "c8b1c991",
   "metadata": {},
   "outputs": [
    {
     "name": "stdout",
     "output_type": "stream",
     "text": [
      "Local strains, strain =\n",
      " [[ 1.36687849e-05]\n",
      " [-2.66156660e-04]\n",
      " [-5.80901466e-04]]\n"
     ]
    }
   ],
   "source": [
    "# 利用材料柔度矩阵计算局部坐标系下的应变矢量\n",
    "strain = np.linalg.multi_dot([S, stress])\n",
    "# 打印局部坐标系下的应变矢量\n",
    "print(\"Local strains, strain =\\n\", strain)"
   ]
  }
 ],
 "metadata": {
  "kernelspec": {
   "display_name": "Python 3 (ipykernel)",
   "language": "python",
   "name": "python3"
  },
  "language_info": {
   "codemirror_mode": {
    "name": "ipython",
    "version": 3
   },
   "file_extension": ".py",
   "mimetype": "text/x-python",
   "name": "python",
   "nbconvert_exporter": "python",
   "pygments_lexer": "ipython3",
   "version": "3.9.12"
  }
 },
 "nbformat": 4,
 "nbformat_minor": 5
}
