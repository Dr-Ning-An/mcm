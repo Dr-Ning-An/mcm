{
 "cells": [
  {
   "cell_type": "code",
   "execution_count": 1,
   "id": "76ee7866",
   "metadata": {},
   "outputs": [],
   "source": [
    "# ABD matrices calculator based on classical laminate theory\n",
    "# Example 4.2 \n",
    "import numpy as np"
   ]
  },
  {
   "cell_type": "code",
   "execution_count": 2,
   "id": "09a13e29",
   "metadata": {},
   "outputs": [],
   "source": [
    "# 定义函数由单层板的工程常数计算单层板折减刚度矩阵Q\n",
    "def transform_engineeringConstants(E1, E2, v12, G12):\n",
    "    # 根据工程常数计算柔度矩阵的系数\n",
    "    S11 = 1/E1;\n",
    "    S12 = -v12/E1;\n",
    "    S22 = 1/E2;\n",
    "    S66 = 1/G12;\n",
    "    # 初始化柔度矩阵\n",
    "    S = np.zeros((3,3))\n",
    "    # 将柔度矩阵的非零元素依次赋值；注意Python的编码从0开始。\n",
    "    S[0][0] = S11;\n",
    "    S[0][1] = S12;\n",
    "    S[1][0] = S[0][1];\n",
    "    S[1][1] = S22;\n",
    "    S[2][2] = S66;\n",
    "    # 矩阵运算求解折减刚度矩阵\n",
    "    Q = np.linalg.inv(S)\n",
    "    return Q"
   ]
  },
  {
   "cell_type": "code",
   "execution_count": 3,
   "id": "6d5bc175",
   "metadata": {},
   "outputs": [],
   "source": [
    "# 定义函数由单层板折减刚度矩阵Q和铺层角度，计算单层板在全局坐标系下的折减刚度矩阵Q_bar\n",
    "def transform_Q(Q, theta):\n",
    "    # 计算转换矩阵 T\n",
    "    c = np.cos(theta*np.pi/180.0)\n",
    "    s = np.sin(theta*np.pi/180.0)\n",
    "    T = np.zeros((3,3))\n",
    "    T[0][0] = c**2;\n",
    "    T[0][1] = s**2;\n",
    "    T[0][2] = 2.0*c*s;\n",
    "    T[1][0] = s**2;\n",
    "    T[1][1] = c**2;\n",
    "    T[1][2] = -2.0*c*s;\n",
    "    T[2][0] = -s*c;\n",
    "    T[2][1] = s*c;\n",
    "    T[2][2] = c**2-s**2;\n",
    "    # 定义R矩阵\n",
    "    R = np.zeros((3,3))\n",
    "    R[0][0] = 1;\n",
    "    R[1][1] = 1;\n",
    "    R[2][2] = 2;\n",
    "    # 计算全局折减刚度矩阵\n",
    "    Q_bar = np.linalg.multi_dot([np.linalg.inv(T), Q, R, T, np.linalg.inv(R)])\n",
    "    return Q_bar"
   ]
  },
  {
   "cell_type": "code",
   "execution_count": 4,
   "id": "c7138771",
   "metadata": {},
   "outputs": [],
   "source": [
    "def height(thickness):\n",
    "    # thickness = np.array([5, 5, 5])\n",
    "    ply_num = len(thickness)\n",
    "    h_total = np.sum(thickness[0:ply_num]) # 层合板总厚度\n",
    "    height = np.zeros(ply_num+1)\n",
    "    #Create array storing the heights of k plies about the midplane\n",
    "    for k in range(0, ply_num+1):\n",
    "        height[k]= - h_total/2.0 + np.sum(thickness[0:k])\n",
    "    return height"
   ]
  },
  {
   "cell_type": "code",
   "execution_count": 5,
   "id": "f2eaf793",
   "metadata": {},
   "outputs": [],
   "source": [
    "def ABD_matrices(Q, statck, thickness):\n",
    "    A = np.zeros([3, 3])\n",
    "    B = np.zeros([3, 3])\n",
    "    D = np.zeros([3, 3])\n",
    "    h = height(thickness)\n",
    "    for i in range(3):\n",
    "        for j in range(3):\n",
    "            for k in range(len(h)-1):\n",
    "                Q_bar = transform_Q(Q, statck[k])\n",
    "                ply_kA = h[k+1] - h[k]\n",
    "                ply_kB = (h[k+1]**2 - h[k]**2)/2\n",
    "                ply_kD = (h[k+1]**3 - h[k]**3)/3\n",
    "                A[i,j] = A[i,j] + ply_kA * Q_bar[i,j]\n",
    "                B[i,j] = B[i,j] + ply_kB * Q_bar[i,j]\n",
    "                D[i,j] = D[i,j] + ply_kD * Q_bar[i,j]\n",
    "    return (A, B, D)"
   ]
  },
  {
   "cell_type": "code",
   "execution_count": 6,
   "id": "20332a50",
   "metadata": {},
   "outputs": [
    {
     "name": "stdout",
     "output_type": "stream",
     "text": [
      "A =  [[ 1.73924086e+12  3.88386411e+11  5.66337309e+10]\n",
      " [ 3.88386411e+11  4.53253512e+11 -1.14063610e+11]\n",
      " [ 5.66337309e+10 -1.14063610e+11  4.52482544e+11]]\n",
      "B =  [[-3.12883381e+12  9.85521554e+11 -1.07165613e+12]\n",
      " [ 9.85521554e+11  1.15779070e+12 -1.07165613e+12]\n",
      " [-1.07165613e+12 -1.07165613e+12  9.85521554e+11]]\n",
      "D =  [[ 3.34320341e+13  6.46097724e+12 -5.24029369e+12]\n",
      " [ 6.46097724e+12  9.31977132e+12 -5.59591315e+12]\n",
      " [-5.24029369e+12 -5.59591315e+12  7.66277974e+12]]\n"
     ]
    }
   ],
   "source": [
    "Q = transform_engineeringConstants(181.0*1.0E9, 10.3*1.0E9, 0.28, 7.17*1.0E9) # Example 2.6\n",
    "thickness = np.array([5, 5, 5])\n",
    "statck = np.array([0, 30, -45])\n",
    "ABD_matrices(Q, statck, thickness)\n",
    "print(\"A = \", ABD_matrices(Q, statck, thickness)[0])\n",
    "print(\"B = \", ABD_matrices(Q, statck, thickness)[1])\n",
    "print(\"D = \", ABD_matrices(Q, statck, thickness)[2])"
   ]
  },
  {
   "cell_type": "code",
   "execution_count": null,
   "id": "3178bab9",
   "metadata": {},
   "outputs": [],
   "source": []
  }
 ],
 "metadata": {
  "kernelspec": {
   "display_name": "Python 3 (ipykernel)",
   "language": "python",
   "name": "python3"
  },
  "language_info": {
   "codemirror_mode": {
    "name": "ipython",
    "version": 3
   },
   "file_extension": ".py",
   "mimetype": "text/x-python",
   "name": "python",
   "nbconvert_exporter": "python",
   "pygments_lexer": "ipython3",
   "version": "3.9.12"
  }
 },
 "nbformat": 4,
 "nbformat_minor": 5
}
