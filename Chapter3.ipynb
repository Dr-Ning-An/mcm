{
 "cells": [
  {
   "cell_type": "code",
   "execution_count": 1,
   "id": "65d61a24",
   "metadata": {},
   "outputs": [],
   "source": [
    "####### Example 3.1 starts here #######"
   ]
  },
  {
   "cell_type": "code",
   "execution_count": 2,
   "id": "b1db5a1d",
   "metadata": {},
   "outputs": [],
   "source": [
    "import numpy as np"
   ]
  },
  {
   "cell_type": "code",
   "execution_count": 3,
   "id": "f4813fec",
   "metadata": {},
   "outputs": [],
   "source": [
    "# 定义已知参数\n",
    "V_f = 0.7;\n",
    "rho_f = 2.5;\n",
    "rho_m = 1.2;"
   ]
  },
  {
   "cell_type": "markdown",
   "id": "dd8cfffb",
   "metadata": {},
   "source": [
    " 由 $\\rho_c = \\rho_f V_f + \\rho_m V_m$"
   ]
  },
  {
   "cell_type": "code",
   "execution_count": 4,
   "id": "f6b9aeac",
   "metadata": {},
   "outputs": [
    {
     "name": "stdout",
     "output_type": "stream",
     "text": [
      "单层板密度为： 2110.0 kg/m3\n"
     ]
    }
   ],
   "source": [
    "# 计算单层板密度\n",
    "V_m = 1.0 - V_f;\n",
    "rho_c = rho_f*V_f + rho_m*V_m;\n",
    "# 打印单层板密度结果：\n",
    "print(\"单层板密度为：\", rho_c*1000.0, \"kg/m3\")"
   ]
  },
  {
   "cell_type": "markdown",
   "id": "bd992d42",
   "metadata": {},
   "source": [
    "由 $W_f = \\frac{\\rho_f}{\\rho_f V_f + \\rho_m V_m}V_f$, $W_m = 1.0 - W_f$"
   ]
  },
  {
   "cell_type": "code",
   "execution_count": 5,
   "id": "92164496",
   "metadata": {},
   "outputs": [
    {
     "name": "stdout",
     "output_type": "stream",
     "text": [
      "纤维质量分数： 0.8293838862559242 \n",
      "基体质量分数： 0.17061611374407581\n"
     ]
    }
   ],
   "source": [
    "# 计算纤维和基体的质量分数\n",
    "W_f = rho_f/(rho_f*V_f + rho_m*V_m)*V_f\n",
    "W_m = 1.0 - W_f;\n",
    "# 打印质量分数计算结果\n",
    "print(\"纤维质量分数：\", W_f, \"\\n基体质量分数：\", W_m)"
   ]
  },
  {
   "cell_type": "markdown",
   "id": "8a6e898a",
   "metadata": {},
   "source": [
    "由 $v_c = \\frac{m}{\\rho_c}$"
   ]
  },
  {
   "cell_type": "code",
   "execution_count": 6,
   "id": "af6a77c7",
   "metadata": {},
   "outputs": [
    {
     "name": "stdout",
     "output_type": "stream",
     "text": [
      "4kg复合材料体积为： 0.0018957345971563982 m3\n"
     ]
    }
   ],
   "source": [
    "# 计算4kg复合材料的体积\n",
    "m = 4; #Kg\n",
    "v_c = m/(rho_c*1000.0);\n",
    "# 打印计算结果\n",
    "print(\"4kg复合材料体积为：\", v_c, \"m3\")"
   ]
  },
  {
   "cell_type": "code",
   "execution_count": 7,
   "id": "2a5bf20b",
   "metadata": {},
   "outputs": [
    {
     "name": "stdout",
     "output_type": "stream",
     "text": [
      "4kg复合材料所含的纤维体积： 0.0013270142180094786 m3 \n",
      "4kg复合材料所含的基体体积： 0.0005687203791469196 m3\n",
      "4kg复合材料所含的纤维质量： 3.3175355450236963 kg \n",
      "4kg复合材料所含的基体质量： 0.6824644549763037 kg\n"
     ]
    }
   ],
   "source": [
    "# 计算4kg复合材料的纤维含量和基体含量\n",
    "v_f = v_c * V_f\n",
    "v_m = v_c * V_m\n",
    "m_f = v_f * rho_f * 1000.0\n",
    "m_m = m - m_f\n",
    "# 打印计算结果\n",
    "print(\"4kg复合材料所含的纤维体积：\", v_f, \"m3\", \"\\n4kg复合材料所含的基体体积：\", v_m, \"m3\")\n",
    "print(\"4kg复合材料所含的纤维质量：\", m_f, \"kg\", \"\\n4kg复合材料所含的基体质量：\", m_m, \"kg\")"
   ]
  },
  {
   "cell_type": "code",
   "execution_count": null,
   "id": "669eea41",
   "metadata": {},
   "outputs": [],
   "source": []
  }
 ],
 "metadata": {
  "kernelspec": {
   "display_name": "Python 3 (ipykernel)",
   "language": "python",
   "name": "python3"
  },
  "language_info": {
   "codemirror_mode": {
    "name": "ipython",
    "version": 3
   },
   "file_extension": ".py",
   "mimetype": "text/x-python",
   "name": "python",
   "nbconvert_exporter": "python",
   "pygments_lexer": "ipython3",
   "version": "3.10.7"
  }
 },
 "nbformat": 4,
 "nbformat_minor": 5
}
