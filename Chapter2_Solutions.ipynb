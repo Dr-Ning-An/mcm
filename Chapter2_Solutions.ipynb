{
 "cells": [
  {
   "cell_type": "code",
   "execution_count": 1,
   "id": "53f5f177",
   "metadata": {},
   "outputs": [],
   "source": [
    "####### Solution 2.2 starts here #######"
   ]
  },
  {
   "cell_type": "code",
   "execution_count": 2,
   "id": "d3476bae",
   "metadata": {},
   "outputs": [],
   "source": [
    "import numpy as np"
   ]
  },
  {
   "cell_type": "code",
   "execution_count": 3,
   "id": "752c15a0",
   "metadata": {},
   "outputs": [],
   "source": [
    "# 定义已知工程常数\n",
    "E1 = 4.0; #Msi\n",
    "E2 = 3.0; #Msi\n",
    "E3 = 3.1; #Msi\n",
    "v12 = 0.2;\n",
    "v23 = 0.4;\n",
    "v31 = 0.6;\n",
    "G12 = 6.0; #Msi\n",
    "G23 = 7.0; #Msi\n",
    "G31 = 2.0; #Msi"
   ]
  },
  {
   "cell_type": "code",
   "execution_count": 4,
   "id": "2844408a",
   "metadata": {},
   "outputs": [],
   "source": [
    "# 根据工程常数计算柔度矩阵的系数\n",
    "S11 = 1/E1;\n",
    "S22 = 1/E2;\n",
    "S33 = 1/E3;\n",
    "S12 = -S11*v12;\n",
    "S23 = -S22*v23;\n",
    "S13 = -S33*v31;\n",
    "S44 = 1/G23;\n",
    "S55 = 1/G31;\n",
    "S66 = 1/G12;"
   ]
  },
  {
   "cell_type": "code",
   "execution_count": 5,
   "id": "4c3d82fa",
   "metadata": {},
   "outputs": [
    {
     "name": "stdout",
     "output_type": "stream",
     "text": [
      "柔度矩阵为： \n",
      " [[ 0.25       -0.05       -0.19354839  0.          0.          0.        ]\n",
      " [-0.05        0.33333333 -0.13333333  0.          0.          0.        ]\n",
      " [-0.19354839 -0.13333333  0.32258065  0.          0.          0.        ]\n",
      " [ 0.          0.          0.          0.14285714  0.          0.        ]\n",
      " [ 0.          0.          0.          0.          0.5         0.        ]\n",
      " [ 0.          0.          0.          0.          0.          0.16666667]] \n",
      " Unit: Msi-1\n"
     ]
    }
   ],
   "source": [
    "# 初始化柔度矩阵\n",
    "S = np.zeros((6,6))\n",
    "# 将柔度矩阵的非零元素依次赋值；注意Python的编码从0开始。\n",
    "S[0,0] = S11;\n",
    "S[1,1] = S22;\n",
    "S[2,2] = S33;\n",
    "S[3,3] = S44;\n",
    "S[4,4] = S55;\n",
    "S[5,5] = S66;\n",
    "S[0,1] = S12;\n",
    "S[1,0] = S[0,1];\n",
    "S[0,2] = S13;\n",
    "S[2,0] = S[0,2];\n",
    "S[1,2] = S23;\n",
    "S[2,1] = S[1,2];\n",
    "# 打印柔度矩阵\n",
    "print(\"柔度矩阵为： \\n\", S, \"\\n Unit: Msi-1\")"
   ]
  },
  {
   "cell_type": "code",
   "execution_count": 6,
   "id": "cec159cb",
   "metadata": {},
   "outputs": [
    {
     "name": "stdout",
     "output_type": "stream",
     "text": [
      "刚度矩阵为： \n",
      " [[13.67462345  6.38950057 10.84576764  0.          0.          0.        ]\n",
      " [ 6.38950057  6.57975865  6.55333392  0.          0.          0.        ]\n",
      " [10.84576764  6.55333392 12.31617194  0.          0.          0.        ]\n",
      " [ 0.          0.          0.          7.          0.          0.        ]\n",
      " [ 0.          0.          0.          0.          2.          0.        ]\n",
      " [ 0.          0.          0.          0.          0.          6.        ]] \n",
      " Unit: Msi\n"
     ]
    }
   ],
   "source": [
    "# 计算刚度矩阵，并打印\n",
    "C = np.linalg.inv(S)\n",
    "# 打印刚度矩阵\n",
    "print(\"刚度矩阵为： \\n\", C, \"\\n Unit: Msi\")"
   ]
  },
  {
   "cell_type": "code",
   "execution_count": 7,
   "id": "2d546257",
   "metadata": {},
   "outputs": [],
   "source": [
    "####### Solution 2.10 starts here #######"
   ]
  },
  {
   "cell_type": "code",
   "execution_count": 8,
   "id": "aabb4a67",
   "metadata": {},
   "outputs": [],
   "source": [
    "# 定义已知工程常数\n",
    "E1 = 204.0; #GPa\n",
    "E2 = 18.5; #GPa\n",
    "v12 = 0.23;\n",
    "G12 = 5.59; #GPa"
   ]
  },
  {
   "cell_type": "code",
   "execution_count": 9,
   "id": "00094a86",
   "metadata": {},
   "outputs": [],
   "source": [
    "# 根据工程常数计算柔度矩阵的系数\n",
    "S11 = 1/E1;\n",
    "S12 = -v12*S11;\n",
    "S22 = 1/E2;\n",
    "S66 = 1/G12;"
   ]
  },
  {
   "cell_type": "code",
   "execution_count": 10,
   "id": "2f25c862",
   "metadata": {},
   "outputs": [
    {
     "name": "stdout",
     "output_type": "stream",
     "text": [
      "柔度矩阵为： \n",
      " [[ 0.00490196 -0.00112745  0.        ]\n",
      " [-0.00112745  0.05405405  0.        ]\n",
      " [ 0.          0.          0.17889088]] \n",
      " Unit: GPa-1\n"
     ]
    }
   ],
   "source": [
    "# 初始化柔度矩阵\n",
    "S = np.zeros((3,3))\n",
    "# 将柔度矩阵的非零元素依次赋值；注意Python的编码从0开始。\n",
    "S[0][0] = S11;\n",
    "S[0][1] = S12;\n",
    "S[1][0] = S[0][1];\n",
    "S[1][1] = S22;\n",
    "S[2][2] = S66;\n",
    "# 打印柔度矩阵\n",
    "print(\"柔度矩阵为： \\n\", S, \"\\n Unit: GPa-1\")"
   ]
  },
  {
   "cell_type": "code",
   "execution_count": 11,
   "id": "83bbd343",
   "metadata": {},
   "outputs": [
    {
     "name": "stdout",
     "output_type": "stream",
     "text": [
      "Reduced stiffness matrix =\n",
      " [[204.98336751   4.27551093   0.        ]\n",
      " [  4.27551093  18.58917794   0.        ]\n",
      " [  0.           0.           5.59      ]] \n",
      " Unit: GPa\n"
     ]
    }
   ],
   "source": [
    "# 矩阵运算求解折减刚度矩阵\n",
    "Q = np.linalg.inv(S)\n",
    "print(\"Reduced stiffness matrix =\\n\", Q, \"\\n Unit: GPa\")"
   ]
  },
  {
   "cell_type": "code",
   "execution_count": 12,
   "id": "a0a194dc",
   "metadata": {},
   "outputs": [],
   "source": [
    "####### Solution 2.16 starts here #######"
   ]
  },
  {
   "cell_type": "code",
   "execution_count": 13,
   "id": "82df541c",
   "metadata": {},
   "outputs": [],
   "source": [
    "import math"
   ]
  },
  {
   "cell_type": "code",
   "execution_count": 14,
   "id": "14048616",
   "metadata": {},
   "outputs": [
    {
     "name": "stdout",
     "output_type": "stream",
     "text": [
      "Transformation matrix =\n",
      " [[ 0.75       0.25       0.8660254]\n",
      " [ 0.25       0.75      -0.8660254]\n",
      " [-0.4330127  0.4330127  0.5      ]]\n"
     ]
    }
   ],
   "source": [
    "# 计算转换矩阵 T\n",
    "theta = 30/180*np.pi; # rad\n",
    "c = np.cos(theta)\n",
    "s = np.sin(theta)\n",
    "T = np.array([[c**2, s**2, 2.0*c*s],\n",
    "              [s**2, c**2, -2.0*c*s],\n",
    "              [-s*c, s*c, c**2-s**2]])\n",
    "# 打印转换矩阵 T\n",
    "print(\"Transformation matrix =\\n\", T)"
   ]
  },
  {
   "cell_type": "code",
   "execution_count": 15,
   "id": "3e61e8a2",
   "metadata": {},
   "outputs": [
    {
     "name": "stdout",
     "output_type": "stream",
     "text": [
      "stress_xy = \n",
      " [[ 4.]\n",
      " [ 2.]\n",
      " [-3.]] MPa\n",
      "stress_12 = \n",
      " [[ 0.90192379]\n",
      " [ 5.09807621]\n",
      " [-2.3660254 ]] MPa\n"
     ]
    }
   ],
   "source": [
    "stress_xy = np.array([[4.0],[2.0],[-3.0]]); #MPa\n",
    "print(\"stress_xy = \\n\",  stress_xy, 'MPa')\n",
    "stress_12 = np.matmul(T, stress_xy)\n",
    "print(\"stress_12 = \\n\", stress_12, 'MPa')\n",
    "# 应力、应变在不同坐标系下的转换过程不涉及材料参数，因此与模量大小无关。"
   ]
  },
  {
   "cell_type": "code",
   "execution_count": 16,
   "id": "12d42f78",
   "metadata": {},
   "outputs": [],
   "source": [
    "####### Solution 2.17 starts here #######"
   ]
  },
  {
   "cell_type": "code",
   "execution_count": 17,
   "id": "3ddd4778",
   "metadata": {},
   "outputs": [
    {
     "name": "stdout",
     "output_type": "stream",
     "text": [
      "[[1 0 0]\n",
      " [0 1 0]\n",
      " [0 0 2]]\n"
     ]
    }
   ],
   "source": [
    "# 定义R矩阵\n",
    "R = np.array([[1, 0, 0],\n",
    "              [0, 1, 0],\n",
    "              [0, 0, 2]])\n",
    "# 打印R矩阵\n",
    "print(R)"
   ]
  },
  {
   "cell_type": "code",
   "execution_count": 18,
   "id": "d294e7f6",
   "metadata": {},
   "outputs": [
    {
     "name": "stdout",
     "output_type": "stream",
     "text": [
      "strain_xy = \n",
      " [[ 4.e-06]\n",
      " [ 2.e-06]\n",
      " [-3.e-06]]\n",
      "strain_12 = \n",
      " [[ 2.20096189e-06]\n",
      " [ 3.79903811e-06]\n",
      " [-3.23205081e-06]]\n"
     ]
    }
   ],
   "source": [
    "strain_xy = np.array([[4.0],[2.0],[-3.0]])*1.0E-6\n",
    "print(\"strain_xy = \\n\",  strain_xy)\n",
    "strain_12 = np.linalg.multi_dot([R, T, np.linalg.inv(R), strain_xy])\n",
    "print(\"strain_12 = \\n\", strain_12)"
   ]
  },
  {
   "cell_type": "code",
   "execution_count": 19,
   "id": "e55327da",
   "metadata": {},
   "outputs": [],
   "source": [
    "####### Solution 2.22 starts here #######"
   ]
  },
  {
   "cell_type": "code",
   "execution_count": 20,
   "id": "84d02827",
   "metadata": {},
   "outputs": [
    {
     "name": "stdout",
     "output_type": "stream",
     "text": [
      "柔度矩阵为： \n",
      " [[ 0.0337952  -0.0077729   0.        ]\n",
      " [-0.0077729   0.37271711  0.        ]\n",
      " [ 0.          0.          1.23304562]] \n",
      " Unit: GPa-1\n"
     ]
    }
   ],
   "source": [
    "# 定义已知工程常数\n",
    "E1 = 29.59; #Msi\n",
    "E2 = 2.683; #Msi\n",
    "v12 = 0.23;\n",
    "G12 = 0.811; #Msi\n",
    "# 根据工程常数计算柔度矩阵的系数\n",
    "S11 = 1/E1;\n",
    "S12 = -v12*S11;\n",
    "S22 = 1/E2;\n",
    "S66 = 1/G12;\n",
    "# 初始化柔度矩阵\n",
    "S = np.zeros((3,3))\n",
    "# 将柔度矩阵的非零元素依次赋值；注意Python的编码从0开始。\n",
    "S[0][0] = S11;\n",
    "S[0][1] = S12;\n",
    "S[1][0] = S[0][1];\n",
    "S[1][1] = S22;\n",
    "S[2][2] = S66;\n",
    "# 打印柔度矩阵\n",
    "print(\"柔度矩阵为： \\n\", S, \"\\n Unit: GPa-1\")"
   ]
  },
  {
   "cell_type": "code",
   "execution_count": 21,
   "id": "ce444ba2",
   "metadata": {},
   "outputs": [
    {
     "name": "stdout",
     "output_type": "stream",
     "text": [
      "Ex =  2.27248560773396\n",
      "Ey =  3.695684916057524\n",
      "Gxy =  1.6004994028232264\n",
      "vxy =  0.3632183205592983\n",
      "mx =  -0.8529749039925613\n",
      "my =  9.538083193082345\n"
     ]
    }
   ],
   "source": [
    "# 计算折减刚度矩阵Q\n",
    "Q = np.linalg.inv(S)\n",
    "# 计算转换矩阵 T\n",
    "theta = 60/180*np.pi; # rad\n",
    "c = np.cos(theta)\n",
    "s = np.sin(theta)\n",
    "T = np.array([[c**2, s**2, 2.0*c*s],\n",
    "              [s**2, c**2, -2.0*c*s],\n",
    "              [-s*c, s*c, c**2-s**2]])\n",
    "# 计算全局坐标下的折减刚度矩阵Q_bar\n",
    "Q_bar = np.linalg.multi_dot([np.linalg.inv(T), Q, R, T, np.linalg.inv(R)])\n",
    "# 计算全局坐标系下的柔度矩阵S_bar\n",
    "S_bar = np.linalg.inv(Q_bar)\n",
    "Ex = 1./S_bar[0,0]\n",
    "Ey = 1./S_bar[1,1]\n",
    "Gxy = 1./S_bar[2,2]\n",
    "vxy = -S_bar[0,1]/S_bar[0,0]\n",
    "mx = -S_bar[0,2]*E1\n",
    "my = -S_bar[1,2]*E1\n",
    "\n",
    "print(\"Ex = \", Ex)\n",
    "print(\"Ey = \", Ey)\n",
    "print(\"Gxy = \", Gxy)\n",
    "print(\"vxy = \", vxy)\n",
    "print(\"mx = \", mx)\n",
    "print(\"my = \", my)"
   ]
  },
  {
   "cell_type": "code",
   "execution_count": 22,
   "id": "da38cdc1",
   "metadata": {},
   "outputs": [],
   "source": [
    "####### Solution 2.35 starts here #######"
   ]
  },
  {
   "cell_type": "code",
   "execution_count": 23,
   "id": "9ffc5cd7",
   "metadata": {},
   "outputs": [
    {
     "data": {
      "text/latex": [
       "$\\displaystyle -70.4367328411343 < \\tau_{xy} \\wedge \\tau_{xy} < 134.0$"
      ],
      "text/plain": [
       "(-70.4367328411343 < tau_xy) & (tau_xy < 134.0)"
      ]
     },
     "execution_count": 23,
     "metadata": {},
     "output_type": "execute_result"
    }
   ],
   "source": [
    "# 定义单层板强度指标\n",
    "sigma_1T = 1260.0; # MPa\n",
    "sigma_1C = 2500.0; # MPa\n",
    "sigma_2T = 61.0; # MPa\n",
    "sigma_2C = 202.0; # MPa\n",
    "tau_ABS = 67.0; # MPa\n",
    "\n",
    "# 计算转换矩阵 T\n",
    "import numpy as np\n",
    "theta = 60/180*np.pi; # rad\n",
    "c = np.cos(theta)\n",
    "s = np.sin(theta)\n",
    "T = np.array([[c**2, s**2, 2.0*c*s],\n",
    "              [s**2, c**2, -2.0*c*s],\n",
    "              [-s*c, s*c, c**2-s**2]])\n",
    "\n",
    "from sympy import symbols, solve\n",
    "tau_xy = symbols('tau_xy')\n",
    "\n",
    "stress_xy = np.array([0, 0, tau_xy])\n",
    "stress_12 = np.linalg.multi_dot([T, stress_xy])\n",
    "\n",
    "sigma1 = stress_12[0]\n",
    "sigma2 = stress_12[1]\n",
    "tau12 = stress_12[2]\n",
    "\n",
    "# 最大应力准则\n",
    "solve([sigma1 > -sigma_1C, sigma1 < sigma_1T, \n",
    "       sigma2 > -sigma_2C, sigma2 < sigma_2T, \n",
    "       tau12 > - tau_ABS, tau12 < tau_ABS])"
   ]
  },
  {
   "cell_type": "code",
   "execution_count": 24,
   "id": "a79b0f88",
   "metadata": {},
   "outputs": [],
   "source": [
    "# 最大应变准则，首先需要计算材料坐标系下的应变\n",
    "\n",
    "####### Solution 2.10 starts here #######\n",
    "# 定义已知工程常数\n",
    "E1 = 204.0; #GPa\n",
    "E2 = 18.5; #GPa\n",
    "v12 = 0.23;\n",
    "G12 = 5.59; #GPa\n",
    "# 根据工程常数计算柔度矩阵的系数\n",
    "S11 = 1/E1;\n",
    "S12 = -v12*S11;\n",
    "S22 = 1/E2;\n",
    "S66 = 1/G12;\n",
    "# 初始化柔度矩阵\n",
    "S = np.zeros((3,3))\n",
    "# 将柔度矩阵的非零元素依次赋值；注意Python的编码从0开始。\n",
    "S[0][0] = S11;\n",
    "S[0][1] = S12;\n",
    "S[1][0] = S[0][1];\n",
    "S[1][1] = S22;\n",
    "S[2][2] = S66;\n",
    "\n",
    "strain_12 = np.linalg.multi_dot([S, stress_12])\n",
    "\n",
    "epsilon1 = strain_12[0]\n",
    "epsilon2 = strain_12[1]\n",
    "gamma12 = strain_12[2]"
   ]
  },
  {
   "cell_type": "code",
   "execution_count": 25,
   "id": "b924d758",
   "metadata": {},
   "outputs": [
    {
     "data": {
      "text/latex": [
       "$\\displaystyle -68.9975918925903 < \\tau_{xy} \\wedge \\tau_{xy} < 134.0$"
      ],
      "text/plain": [
       "(-68.9975918925903 < tau_xy) & (tau_xy < 134.0)"
      ]
     },
     "execution_count": 25,
     "metadata": {},
     "output_type": "execute_result"
    }
   ],
   "source": [
    "# 最大应变准则\n",
    "solve([epsilon1 > -sigma_1C/E1, epsilon1 < sigma_1T/E1, \n",
    "       epsilon2 > -sigma_2C/E2, epsilon2 < sigma_2T/E2, \n",
    "       gamma12 > - tau_ABS/G12, gamma12 < tau_ABS/G12])"
   ]
  },
  {
   "cell_type": "code",
   "execution_count": 26,
   "id": "95db2800",
   "metadata": {},
   "outputs": [
    {
     "data": {
      "text/latex": [
       "$\\displaystyle -62.2337383095744 < \\tau_{xy} \\wedge \\tau_{xy} < 62.2337383095744$"
      ],
      "text/plain": [
       "(-62.2337383095744 < tau_xy) & (tau_xy < 62.2337383095744)"
      ]
     },
     "execution_count": 26,
     "metadata": {},
     "output_type": "execute_result"
    }
   ],
   "source": [
    "# Tasi-Hill准则\n",
    "solve((sigma1/sigma_1T)**2 - (sigma1*sigma2)/sigma_1T**2 + (sigma2/sigma_2T)**2 + (tau12/tau_ABS)**2 < 1.0)"
   ]
  },
  {
   "cell_type": "code",
   "execution_count": 27,
   "id": "d9bc6c63",
   "metadata": {},
   "outputs": [
    {
     "data": {
      "text/latex": [
       "$\\displaystyle -59.6537255794834 < \\tau_{xy} \\wedge \\tau_{xy} < 138.99621243935$"
      ],
      "text/plain": [
       "(-59.6537255794834 < tau_xy) & (tau_xy < 138.99621243935)"
      ]
     },
     "execution_count": 27,
     "metadata": {},
     "output_type": "execute_result"
    }
   ],
   "source": [
    "# Tasi-Wu准则\n",
    "H1 = 1/sigma_1T - 1/sigma_1C\n",
    "H11 = 1/(sigma_1T*sigma_1C)\n",
    "H2 = 1/sigma_2T - 1/sigma_2C\n",
    "H22 = 1/(sigma_2T*sigma_2C)\n",
    "H6 = 0\n",
    "H66 = 1/tau_ABS**2\n",
    "H12 = -0.5*np.sqrt(1/(sigma_1T*sigma_1C*sigma_2T*sigma_2C))\n",
    "\n",
    "solve(H1*sigma1 + H2*sigma2 + H11*sigma1**2 + H22*sigma2**2 + H66*tau12**2 + 2.0*H12*sigma1*sigma2 < 1.0)"
   ]
  }
 ],
 "metadata": {
  "kernelspec": {
   "display_name": "Python 3 (ipykernel)",
   "language": "python",
   "name": "python3"
  },
  "language_info": {
   "codemirror_mode": {
    "name": "ipython",
    "version": 3
   },
   "file_extension": ".py",
   "mimetype": "text/x-python",
   "name": "python",
   "nbconvert_exporter": "python",
   "pygments_lexer": "ipython3",
   "version": "3.10.7"
  }
 },
 "nbformat": 4,
 "nbformat_minor": 5
}
