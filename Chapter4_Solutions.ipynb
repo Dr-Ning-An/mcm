{
  "cells": [
    {
      "cell_type": "code",
      "execution_count": 12,
      "id": "76ee7866",
      "metadata": {
        "id": "76ee7866",
        "outputId": "d4bc6e13-3f60-49b0-93c4-6ce5600520f4",
        "colab": {
          "base_uri": "https://localhost:8080/"
        }
      },
      "outputs": [
        {
          "output_type": "stream",
          "name": "stdout",
          "text": [
            "层合板上表面的全局应变：\n",
            " [[1.100e-06]\n",
            " [1.875e-06]\n",
            " [2.050e-06]]\n",
            "层合板中性面的全局应变：\n",
            " [[2.e-06]\n",
            " [3.e-06]\n",
            " [4.e-06]]\n",
            "层合板下表面的全局应变：\n",
            " [[2.900e-06]\n",
            " [4.125e-06]\n",
            " [5.950e-06]]\n"
          ]
        }
      ],
      "source": [
        "# Solution 4.3\n",
        "import numpy as np\n",
        "# 已知条件：中性面应变和曲率\n",
        "epsilon_0 = np.array([[2E-6], [3e-6], [4e-6]])\n",
        "kappa_0 = np.array([[1.2e-4], [1.5e-4], [2.6e-4]])\n",
        "# 层合板厚度为 0.015\n",
        "# 计算层合板上表面的全局应变：\n",
        "epsilon_top = epsilon_0 + (-0.0075)* kappa_0\n",
        "print(\"层合板上表面的全局应变：\\n\", epsilon_top)\n",
        "# 计算层合板中性面的全局应变：\n",
        "epsilon_mid = epsilon_0 + (0.0)* kappa_0\n",
        "print(\"层合板中性面的全局应变：\\n\", epsilon_mid)\n",
        "# 计算层合板下表面的全局应变：\n",
        "epsilon_bottom = epsilon_0 + (0.0075)* kappa_0\n",
        "print(\"层合板下表面的全局应变：\\n\", epsilon_bottom)"
      ]
    },
    {
      "cell_type": "code",
      "execution_count": 13,
      "id": "09a13e29",
      "metadata": {
        "id": "09a13e29"
      },
      "outputs": [],
      "source": [
        "# 定义函数由单层板的工程常数计算单层板折减刚度矩阵Q\n",
        "def transform_engineeringConstants(E1, E2, v12, G12):\n",
        "    # 根据工程常数计算柔度矩阵的系数\n",
        "    S11 = 1/E1;\n",
        "    S12 = -v12/E1;\n",
        "    S22 = 1/E2;\n",
        "    S66 = 1/G12;\n",
        "    # 初始化柔度矩阵\n",
        "    S = np.zeros((3,3))\n",
        "    # 将柔度矩阵的非零元素依次赋值；注意Python的编码从0开始。\n",
        "    S[0][0] = S11;\n",
        "    S[0][1] = S12;\n",
        "    S[1][0] = S[0][1];\n",
        "    S[1][1] = S22;\n",
        "    S[2][2] = S66;\n",
        "    # 矩阵运算求解折减刚度矩阵\n",
        "    Q = np.linalg.inv(S)\n",
        "    return Q"
      ]
    },
    {
      "cell_type": "code",
      "execution_count": 14,
      "id": "6d5bc175",
      "metadata": {
        "id": "6d5bc175"
      },
      "outputs": [],
      "source": [
        "# 定义函数由单层板折减刚度矩阵Q和铺层角度，计算单层板在全局坐标系下的折减刚度矩阵Q_bar\n",
        "def transform_Q(Q, theta):\n",
        "    # 计算转换矩阵 T\n",
        "    c = np.cos(theta*np.pi/180.0)\n",
        "    s = np.sin(theta*np.pi/180.0)\n",
        "    T = np.zeros((3,3))\n",
        "    T[0][0] = c**2;\n",
        "    T[0][1] = s**2;\n",
        "    T[0][2] = 2.0*c*s;\n",
        "    T[1][0] = s**2;\n",
        "    T[1][1] = c**2;\n",
        "    T[1][2] = -2.0*c*s;\n",
        "    T[2][0] = -s*c;\n",
        "    T[2][1] = s*c;\n",
        "    T[2][2] = c**2-s**2;\n",
        "    # 定义R矩阵\n",
        "    R = np.zeros((3,3))\n",
        "    R[0][0] = 1;\n",
        "    R[1][1] = 1;\n",
        "    R[2][2] = 2;\n",
        "    # 计算全局折减刚度矩阵\n",
        "    Q_bar = np.linalg.multi_dot([np.linalg.inv(T), Q, R, T, np.linalg.inv(R)])\n",
        "    return Q_bar"
      ]
    },
    {
      "cell_type": "code",
      "execution_count": 15,
      "id": "c7138771",
      "metadata": {
        "id": "c7138771"
      },
      "outputs": [],
      "source": [
        "def height(thickness):\n",
        "    # thickness = np.array([5, 5, 5])\n",
        "    ply_num = len(thickness)\n",
        "    h_total = np.sum(thickness[0:ply_num]) # 层合板总厚度\n",
        "    height = np.zeros(ply_num+1)\n",
        "    #Create array storing the heights of k plies about the midplane\n",
        "    for k in range(0, ply_num+1):\n",
        "        height[k]= - h_total/2.0 + np.sum(thickness[0:k])\n",
        "    return height"
      ]
    },
    {
      "cell_type": "code",
      "execution_count": 16,
      "id": "f2eaf793",
      "metadata": {
        "id": "f2eaf793"
      },
      "outputs": [],
      "source": [
        "def ABD_matrices(Q, statck, thickness):\n",
        "    A = np.zeros([3, 3])\n",
        "    B = np.zeros([3, 3])\n",
        "    D = np.zeros([3, 3])\n",
        "    h = height(thickness)\n",
        "    for i in range(3):\n",
        "        for j in range(3):\n",
        "            for k in range(len(h)-1):\n",
        "                Q_bar = transform_Q(Q, statck[k])\n",
        "                ply_kA = h[k+1] - h[k]\n",
        "                ply_kB = (h[k+1]**2 - h[k]**2)/2\n",
        "                ply_kD = (h[k+1]**3 - h[k]**3)/3\n",
        "                A[i,j] = A[i,j] + ply_kA * Q_bar[i,j]\n",
        "                B[i,j] = B[i,j] + ply_kB * Q_bar[i,j]\n",
        "                D[i,j] = D[i,j] + ply_kD * Q_bar[i,j]\n",
        "    return (A, B, D)"
      ]
    },
    {
      "cell_type": "code",
      "execution_count": 17,
      "id": "20332a50",
      "metadata": {
        "colab": {
          "base_uri": "https://localhost:8080/"
        },
        "id": "20332a50",
        "outputId": "8592b57a-70ee-4a32-9950-abe0c4b16a11"
      },
      "outputs": [
        {
          "output_type": "stream",
          "name": "stdout",
          "text": [
            "A =  [[4.44994202e+04 1.19989998e+04 4.54747351e-13]\n",
            " [1.19989998e+04 4.44994202e+04 1.81898940e-12]\n",
            " [4.54747351e-13 9.09494702e-13 1.62502102e+04]]\n",
            "B =  [[-101.83816282   18.12552547  -13.70097984]\n",
            " [  18.12552547   65.58711188  -34.63053386]\n",
            " [ -13.70097984  -34.63053386   18.12552547]]\n",
            "D =  [[ 1.0040944   0.19477204 -0.0685049 ]\n",
            " [ 0.19477204  0.72505228 -0.17315267]\n",
            " [-0.0685049  -0.17315267  0.27448223]]\n"
          ]
        }
      ],
      "source": [
        "# Solution 4.8\n",
        "Q = transform_engineeringConstants(5.6*1.0E6, 1.2*1.0E6, 0.26, 0.6*1.0E6) \n",
        "thickness = np.array([0.005, 0.005, 0.005])\n",
        "statck = np.array([0, 60, -60])\n",
        "# 注意 ABD_matrices 中包含A, B, D共三个矩阵，每个矩阵都是3X3的\n",
        "A = ABD_matrices(Q, statck, thickness)[0]\n",
        "B = ABD_matrices(Q, statck, thickness)[1]\n",
        "D = ABD_matrices(Q, statck, thickness)[2]\n",
        "print(\"A = \", A) \n",
        "print(\"B = \", B)\n",
        "print(\"D = \", D)"
      ]
    },
    {
      "cell_type": "code",
      "execution_count": 24,
      "id": "3178bab9",
      "metadata": {
        "id": "3178bab9",
        "outputId": "4da6da9a-f3b2-47d2-dc33-379395ded0aa",
        "colab": {
          "base_uri": "https://localhost:8080/"
        }
      },
      "outputs": [
        {
          "output_type": "stream",
          "name": "stdout",
          "text": [
            "层合板质量为： 0.033855514875000006\n"
          ]
        }
      ],
      "source": [
        "# 层合板质量计算\n",
        "# 层合板体积v_c\n",
        "v_c = 5.*7.*0.015;\n",
        "# 纤维密度rho_f，基体密度rho_m # 注意需要将kg/m3 转换为 lbm/in3\n",
        "rho_f = 2.5*1000*3.6127e-5; rho_m = 1.2*1000*3.6127e-5;\n",
        "# 查表格2.2得到纤维体积分数为0.45，计算层合板密度rho_c\n",
        "rho_c = rho_f * 0.45 + rho_m * (1.0-0.45)\n",
        "# 层合板质量m\n",
        "m = rho_c * v_c\n",
        "print(\"层合板质量为：\", m) "
      ]
    },
    {
      "cell_type": "markdown",
      "source": [
        "### Solution 4.9\n",
        "$A  = \\begin{bmatrix}\n",
        "\\frac{E}{1-v^2} & \\frac{Ev}{1-v^2} & 0 \\\\ \n",
        "\\frac{Ev}{1-v^2} & \\frac{E}{1-v^2} & 0 \\\\ \n",
        " 0 & 0 & \\frac{E}{2(1+v)} \n",
        "\\end{bmatrix}t$\n",
        "\n",
        "$B = 0$\n",
        "\n",
        "$D  = \\frac{1}{12} \\begin{bmatrix}\n",
        "\\frac{E}{1-v^2} & \\frac{Ev}{1-v^2} & 0 \\\\ \n",
        "\\frac{Ev}{1-v^2} & \\frac{E}{1-v^2} & 0 \\\\ \n",
        " 0 & 0 & \\frac{E}{2(1+v)} \n",
        "\\end{bmatrix}t^3$\n",
        "\n"
      ],
      "metadata": {
        "id": "cVRBvfJsarp3"
      },
      "id": "cVRBvfJsarp3"
    },
    {
      "cell_type": "code",
      "source": [
        "# Solution 4.14\n",
        "Q = transform_engineeringConstants(26.25*1.0E6, 1.49*1.0E6, 0.28, 1.04*1.0E6) \n",
        "thickness = np.array([0.005, 0.005, 0.005])\n",
        "statck = np.array([0, 60, -60])\n",
        "# 注意 ABD_matrices 中包含A, B, D共三个矩阵，每个矩阵都是3X3的\n",
        "A = ABD_matrices(Q, statck, thickness)[0]\n",
        "B = ABD_matrices(Q, statck, thickness)[1]\n",
        "D = ABD_matrices(Q, statck, thickness)[2]\n",
        "print(\"A = \", A) \n",
        "print(\"B = \", B)\n",
        "print(\"D = \", D)"
      ],
      "metadata": {
        "id": "n1L9zfV3nMoe"
      },
      "id": "n1L9zfV3nMoe",
      "execution_count": null,
      "outputs": []
    }
  ],
  "metadata": {
    "kernelspec": {
      "display_name": "Python 3 (ipykernel)",
      "language": "python",
      "name": "python3"
    },
    "language_info": {
      "codemirror_mode": {
        "name": "ipython",
        "version": 3
      },
      "file_extension": ".py",
      "mimetype": "text/x-python",
      "name": "python",
      "nbconvert_exporter": "python",
      "pygments_lexer": "ipython3",
      "version": "3.9.12"
    },
    "colab": {
      "provenance": []
    }
  },
  "nbformat": 4,
  "nbformat_minor": 5
}