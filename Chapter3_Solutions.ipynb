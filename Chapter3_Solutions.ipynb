{
 "cells": [
  {
   "cell_type": "code",
   "execution_count": 1,
   "id": "a69780ed",
   "metadata": {},
   "outputs": [
    {
     "name": "stdout",
     "output_type": "stream",
     "text": [
      "纤维体积含量为： 0.6575342465753424\n",
      "基体体积含量为： 0.34246575342465757\n",
      "复合材料的比重： 2.054794520547945\n"
     ]
    }
   ],
   "source": [
    "####### Solution 3.1 #######\n",
    "wf = 0.8; # 纤维质量\n",
    "wm = 0.2; # 基体质量\n",
    "rho_f = 2.5; # 纤维密度\n",
    "rho_m = 1.2; # 基体密度\n",
    "vf = wf/rho_f; # 纤维体积\n",
    "vm = wm/rho_m; # 基体体积\n",
    "Vf = vf/(vf + vm) # 纤维体积含量\n",
    "Vm = 1.0 - Vf; # 基体体积含量\n",
    "print(\"纤维体积含量为：\", Vf)\n",
    "print(\"基体体积含量为：\", Vm)\n",
    "#\n",
    "rho_c = (wf+wm)/(vf+vm);\n",
    "print(\"复合材料的比重：\", rho_c)"
   ]
  },
  {
   "cell_type": "code",
   "execution_count": 2,
   "id": "3e3dc9be",
   "metadata": {},
   "outputs": [
    {
     "data": {
      "text/plain": [
       "[0.226923076923077]"
      ]
     },
     "execution_count": 2,
     "metadata": {},
     "output_type": "execute_result"
    }
   ],
   "source": [
    "####### Solution 3.11 starts here #######\n",
    "# nu_12 = nu_f*Vf + nu_m*Vm\n",
    "nu_12 = 0.27\n",
    "nu_m = 0.35\n",
    "Vf = 0.65\n",
    "Vm = 1-Vf\n",
    "from sympy import *\n",
    "nu_f = Symbol(\"nu_f\")\n",
    "solve(nu_f*Vf + nu_m*Vm-nu_12)"
   ]
  },
  {
   "cell_type": "code",
   "execution_count": 3,
   "id": "f5cb1dac",
   "metadata": {},
   "outputs": [
    {
     "name": "stdout",
     "output_type": "stream",
     "text": [
      "如采用钢，则质量为： 0.012133333333333333\n",
      "如采用复合材料，则质量为： 0.0008127402509410012\n",
      "钢与复合材料质量之比： 14.928918949547782\n"
     ]
    }
   ],
   "source": [
    "####### Solution 3.17 starts here #######\n",
    "# 定义纤维和树脂材料参数\n",
    "rho_f = 1.8 * 1000.0 # Kg/m3\n",
    "rho_m = 1.2 * 1000.0 # Kg/m3\n",
    "Ef = 230E9; #Pa\n",
    "sigma_ft = 2067E6; #Pa\n",
    "Em = 3.4E9; #Pa\n",
    "sigma_mt = 72E6; #Pa\n",
    "# 定义钢拉伸强度\n",
    "sigma_Steel = 450e6; #Pa\n",
    "# 定义设计载荷\n",
    "load = 700.0; # N\n",
    "\n",
    "# 计算钢截面面积 A_Steel\n",
    "A_Steel = load/sigma_Steel\n",
    "# 钢的密度：\n",
    "rho_Steel = 7.8 * 1000.0; # Kg/m3\n",
    "# 钢的质量\n",
    "mass_Steel = rho_Steel * A_Steel * 1.0\n",
    "print(\"如采用钢，则质量为：\", mass_Steel)\n",
    "\n",
    "# 计算复合材料拉伸强度\n",
    "Vf = 0.66\n",
    "Vm = 1.0-Vf\n",
    "epsilon_f = sigma_ft/Ef;\n",
    "sigma_1t = Ef*epsilon_f*Vf + Em*epsilon_f*Vm\n",
    "# print(\"单层板的极限拉伸强度为：\", sigma_1t, \"Pa\")\n",
    "# 计算复合材料截面面积：\n",
    "A = load/(sigma_1t)\n",
    "# 计算复合材料密度：\n",
    "rho_c = rho_f * Vf + rho_m * Vm;\n",
    "# 复合材料的质量\n",
    "mass_c = rho_c * A * 1.0\n",
    "print(\"如采用复合材料，则质量为：\", mass_c)\n",
    "\n",
    "# 钢质量与复合材料质量之比\n",
    "print(\"钢与复合材料质量之比：\", mass_Steel/mass_c)\n",
    "\n",
    "# 单位质量的复合材料价格是单位质量钢价格的5倍，无论从质量还是价格考虑，采用复合材料都是更好的选择。"
   ]
  }
 ],
 "metadata": {
  "kernelspec": {
   "display_name": "Python 3 (ipykernel)",
   "language": "python",
   "name": "python3"
  },
  "language_info": {
   "codemirror_mode": {
    "name": "ipython",
    "version": 3
   },
   "file_extension": ".py",
   "mimetype": "text/x-python",
   "name": "python",
   "nbconvert_exporter": "python",
   "pygments_lexer": "ipython3",
   "version": "3.10.7"
  }
 },
 "nbformat": 4,
 "nbformat_minor": 5
}
