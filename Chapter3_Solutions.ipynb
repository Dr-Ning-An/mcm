{
  "cells": [
    {
      "cell_type": "markdown",
      "metadata": {
        "id": "view-in-github",
        "colab_type": "text"
      },
      "source": [
        "<a href=\"https://colab.research.google.com/github/Dr-Ning-An/mcm/blob/main/Chapter3_Solutions.ipynb\" target=\"_parent\"><img src=\"https://colab.research.google.com/assets/colab-badge.svg\" alt=\"Open In Colab\"/></a>"
      ]
    },
    {
      "cell_type": "code",
      "execution_count": null,
      "id": "a69780ed",
      "metadata": {
        "colab": {
          "base_uri": "https://localhost:8080/"
        },
        "id": "a69780ed",
        "outputId": "9bddc296-cf3d-4e2d-8c06-b880da6c4808"
      },
      "outputs": [
        {
          "output_type": "stream",
          "name": "stdout",
          "text": [
            "纤维体积含量为： 0.6575342465753424\n",
            "基体体积含量为： 0.34246575342465757\n",
            "复合材料的比重： 2.054794520547945\n"
          ]
        }
      ],
      "source": [
        "####### Solution 3.1 #######\n",
        "wf = 0.8; # 纤维质量\n",
        "wm = 0.2; # 基体质量\n",
        "rho_f = 2.5; # 纤维密度\n",
        "rho_m = 1.2; # 基体密度\n",
        "vf = wf/rho_f; # 纤维体积\n",
        "vm = wm/rho_m; # 基体体积\n",
        "Vf = vf/(vf + vm) # 纤维体积含量\n",
        "Vm = 1.0 - Vf; # 基体体积含量\n",
        "print(\"纤维体积含量为：\", Vf)\n",
        "print(\"基体体积含量为：\", Vm)\n",
        "#\n",
        "rho_c = (wf+wm)/(vf+vm);\n",
        "print(\"复合材料的比重：\", rho_c)"
      ]
    },
    {
      "cell_type": "code",
      "execution_count": null,
      "id": "3e3dc9be",
      "metadata": {
        "colab": {
          "base_uri": "https://localhost:8080/"
        },
        "id": "3e3dc9be",
        "outputId": "86e207fb-4bc6-4c5c-ee59-485c3f226cd9"
      },
      "outputs": [
        {
          "output_type": "execute_result",
          "data": {
            "text/plain": [
              "[0.226923076923077]"
            ]
          },
          "metadata": {},
          "execution_count": 2
        }
      ],
      "source": [
        "####### Solution 3.11 starts here #######\n",
        "# nu_12 = nu_f*Vf + nu_m*Vm\n",
        "nu_12 = 0.27\n",
        "nu_m = 0.35\n",
        "Vf = 0.65\n",
        "Vm = 1-Vf\n",
        "from sympy import *\n",
        "nu_f = Symbol(\"nu_f\")\n",
        "solve(nu_f*Vf + nu_m*Vm-nu_12)"
      ]
    },
    {
      "cell_type": "code",
      "source": [
        "###### Solution 3.13 starts here #######\n",
        "# 玻璃纤维 glass\n",
        "Ef = 85.0; # GPa\n",
        "Em = 3.4 # GPa\n",
        "def f(x):\n",
        "  return -(Ef * x + Em * (1.0 - x)) * (x / Ef + (1.0 - x) / Em)\n",
        "from scipy import optimize\n",
        "maximum = optimize.fmin(f, 0.2)\n",
        "print(\"玻璃纤维增强E1/E2最大时，体积分数为：\", maximum[0])\n",
        "# 石墨纤维 graphite\n",
        "Ef_L = 230.0; # GPa\n",
        "Ef_T = 22.0; # GPa\n",
        "Em = 3.4 # GPa\n",
        "def f(x):\n",
        "  return -(Ef_L * x + Em * (1.0 - x)) * (x / Ef_T + (1.0 - x) / Em)\n",
        "from scipy import optimize\n",
        "maximum2 = optimize.fmin(f, 0.8)\n",
        "print(\"石墨纤维增强E1/E2最大时，体积分数为：\", maximum2[0])"
      ],
      "metadata": {
        "id": "KNulP1KNnC0J",
        "outputId": "2738b212-32fd-4a35-af01-3898d7321f2d",
        "colab": {
          "base_uri": "https://localhost:8080/"
        }
      },
      "id": "KNulP1KNnC0J",
      "execution_count": null,
      "outputs": [
        {
          "output_type": "stream",
          "name": "stdout",
          "text": [
            "Optimization terminated successfully.\n",
            "         Current function value: -6.760000\n",
            "         Iterations: 16\n",
            "         Function evaluations: 32\n",
            "玻璃纤维增强E1/E2最大时，体积分数为： 0.5000000000000011\n",
            "Optimization terminated successfully.\n",
            "         Current function value: -20.210635\n",
            "         Iterations: 14\n",
            "         Function evaluations: 28\n",
            "石墨纤维增强E1/E2最大时，体积分数为： 0.5839062500000005\n"
          ]
        }
      ]
    },
    {
      "cell_type": "code",
      "execution_count": null,
      "id": "f5cb1dac",
      "metadata": {
        "colab": {
          "base_uri": "https://localhost:8080/"
        },
        "id": "f5cb1dac",
        "outputId": "88b29e74-df9e-418c-c976-9ffd6e62dd7d"
      },
      "outputs": [
        {
          "output_type": "stream",
          "name": "stdout",
          "text": [
            "如采用钢，则质量为： 0.04853333333333333\n",
            "如采用复合材料，则质量为： 0.003250961003764005\n",
            "钢与复合材料质量之比： 14.928918949547782\n"
          ]
        }
      ],
      "source": [
        "####### Solution 3.17 starts here #######\n",
        "# 定义纤维和树脂材料参数\n",
        "rho_f = 1.8 * 1000.0 # Kg/m3\n",
        "rho_m = 1.2 * 1000.0 # Kg/m3\n",
        "Ef = 230E9; #Pa\n",
        "sigma_ft = 2067E6; #Pa\n",
        "Em = 3.4E9; #Pa\n",
        "sigma_mt = 72E6; #Pa\n",
        "# 定义钢拉伸强度\n",
        "sigma_Steel = 450e6; #Pa\n",
        "# 定义设计载荷\n",
        "load = 1400.0*2; # N\n",
        "\n",
        "# 计算钢截面面积 A_Steel\n",
        "A_Steel = load/sigma_Steel\n",
        "# 钢的密度：\n",
        "rho_Steel = 7.8 * 1000.0; # Kg/m3\n",
        "# 钢的质量\n",
        "mass_Steel = rho_Steel * A_Steel * 1.0\n",
        "print(\"如采用钢，则质量为：\", mass_Steel)\n",
        "\n",
        "# 计算复合材料拉伸强度\n",
        "Vf = 0.66\n",
        "Vm = 1.0-Vf\n",
        "epsilon_f = sigma_ft/Ef;\n",
        "sigma_1t = Ef*epsilon_f*Vf + Em*epsilon_f*Vm\n",
        "# print(\"单层板的极限拉伸强度为：\", sigma_1t, \"Pa\")\n",
        "# 计算复合材料截面面积：\n",
        "A = load/(sigma_1t)\n",
        "# 计算复合材料密度：\n",
        "rho_c = rho_f * Vf + rho_m * Vm;\n",
        "# 复合材料的质量\n",
        "mass_c = rho_c * A * 1.0\n",
        "print(\"如采用复合材料，则质量为：\", mass_c)\n",
        "\n",
        "# 钢质量与复合材料质量之比\n",
        "print(\"钢与复合材料质量之比：\", mass_Steel/mass_c)\n",
        "\n",
        "# 单位质量的复合材料价格是单位质量钢价格的5倍，无论从质量还是价格考虑，采用复合材料都是更好的选择。"
      ]
    },
    {
      "cell_type": "code",
      "source": [
        "# Solution 3.23\n",
        "# 查表格3.1和3.2知，纤维的热膨胀系数：alpha_f = -1.3; 基体的热膨胀系数：alpha_m = 63\n",
        "# Ef=230; Em=3.4"
      ],
      "metadata": {
        "id": "hCaKf2AylNIu"
      },
      "id": "hCaKf2AylNIu",
      "execution_count": null,
      "outputs": []
    },
    {
      "cell_type": "code",
      "source": [
        "from sympy import *\n",
        "from sympy.solvers import solve\n",
        "V_f = Symbol('V_f') # V_f表示纤维体积分数，定义为符号变量\n",
        "V_m = 1.0 - V_f\n",
        "alpha_f = -1.3\n",
        "alpha_m = 63\n",
        "E_f = 230; # GPa\n",
        "E_m = 3.4; # GPa\n",
        "# 计算能够使单层板纵向热膨胀系数等于0的纤维体积分数，V_f\n",
        "solve((alpha_f*E_f*V_f + alpha_m*E_m*V_m)/(E_f*V_f + E_m*V_m), V_f)"
      ],
      "metadata": {
        "colab": {
          "base_uri": "https://localhost:8080/"
        },
        "id": "0U9N7paZlNZF",
        "outputId": "e7ede65f-ebdb-4967-f1ad-00cf44a07c29"
      },
      "id": "0U9N7paZlNZF",
      "execution_count": null,
      "outputs": [
        {
          "output_type": "execute_result",
          "data": {
            "text/plain": [
              "[0.417381137957911]"
            ]
          },
          "metadata": {},
          "execution_count": 5
        }
      ]
    },
    {
      "cell_type": "code",
      "source": [
        "# Solution 3.25"
      ],
      "metadata": {
        "id": "Y8WMR5s1lNcR"
      },
      "id": "Y8WMR5s1lNcR",
      "execution_count": null,
      "outputs": []
    },
    {
      "cell_type": "code",
      "source": [
        "# 复合材料的体积：\n",
        "v_c = 250.*100.*0.125 * 1e-9; # m3\n",
        "# 由纤维体积分数，计算纤维的体积\n",
        "v_f = v_c * 0.6; #m3\n",
        "# 由纤维体积分数，计算基体的体积\n",
        "v_m = v_c * 0.4; #m3\n",
        "# 查表格3.1，得到纤维密度 rho_f\n",
        "rho_f = 2.5 * 1000.0; # kg/m3\n",
        "# 计算纤维质量\n",
        "mass_f = v_f * rho_f; # kg\n",
        "# 查表格3.2，得到基体密度 rho_m\n",
        "rho_m = 1.2 * 1000.0; # kg/m3\n",
        "# 计算基体质量\n",
        "mass_m = v_m * rho_m; # kg\n",
        "print(\"基体质量为：\", mass_m, \"kg\")\n",
        "# 计算基体最大吸水质量\n",
        "mass_water = mass_m * 0.08\n",
        "print(\"基体最大吸水质量为：\", mass_water, \"kg\")"
      ],
      "metadata": {
        "colab": {
          "base_uri": "https://localhost:8080/"
        },
        "id": "rW6-nzWxlNf8",
        "outputId": "f59d955e-de1f-4d78-eb6b-77982dda63ff"
      },
      "id": "rW6-nzWxlNf8",
      "execution_count": null,
      "outputs": [
        {
          "output_type": "stream",
          "name": "stdout",
          "text": [
            "基体质量为： 0.0015 kg\n",
            "基体最大吸水质量为： 0.00012 kg\n"
          ]
        }
      ]
    },
    {
      "cell_type": "code",
      "source": [
        "# 计算单层板横向湿膨胀系数\n",
        "# 查表格3.2\n",
        "nu_m = 0.3; # 基体泊松比\n",
        "nu_f = 0.2; # 纤维泊松比\n",
        "mass_c = mass_f + mass_m; # 复合材料质量\n",
        "rho_c = mass_c/v_c;\n",
        "E_m = 3.3; # GPa\n",
        "E_f = 85.0; # GPa\n",
        "E_1 = E_f*0.6 + E_m*0.4\n",
        "beta_m = 0.33; # 基体湿膨胀系数\n",
        "# 计算复合材料纵向湿膨胀系数\n",
        "beta_1 = E_m/E_1*rho_c/rho_m*beta_m;\n",
        "# 计算复合材料横向湿膨胀系数\n",
        "nu_12 = nu_f*0.6 + nu_m*0.4;\n",
        "beta_2 = (1.0+nu_m)*rho_c/rho_m*beta_m - beta_1*nu_12;\n",
        "print(\"复合材料纵向湿膨胀系数为：\", beta_1)\n",
        "print(\"复合材料横向湿膨胀系数为：\", beta_2)\n",
        "# 计算树脂吸水率为8%时，复合材料整体的吸水浓度。\n",
        "delta_C = (mass_m*0.08)/mass_c\n",
        "# 计算树脂吸水率为8%时复合材料的体积膨胀比\n",
        "v_change = (1.0+beta_2*delta_C)**2 * (1.0+beta_1*delta_C)\n",
        "# 计算吸水后复合材料体积增量\n",
        "delta_v = v_c*(v_change-1.0)\n",
        "print(\"最大吸水量条件下，复合材料的体积增量为：\", delta_v, \"m3\")"
      ],
      "metadata": {
        "colab": {
          "base_uri": "https://localhost:8080/"
        },
        "id": "8mjDlECyjYlU",
        "outputId": "df065115-b58a-45a2-f70a-45f4b5e71670"
      },
      "id": "8mjDlECyjYlU",
      "execution_count": null,
      "outputs": [
        {
          "output_type": "stream",
          "name": "stdout",
          "text": [
            "复合材料纵向湿膨胀系数为： 0.03434346330275229\n",
            "复合材料横向湿膨胀系数为： 0.6996075688073395\n",
            "最大吸水量条件下，复合材料的体积增量为： 8.751450035483291e-08 m3\n"
          ]
        }
      ]
    }
  ],
  "metadata": {
    "kernelspec": {
      "display_name": "Python 3 (ipykernel)",
      "language": "python",
      "name": "python3"
    },
    "language_info": {
      "codemirror_mode": {
        "name": "ipython",
        "version": 3
      },
      "file_extension": ".py",
      "mimetype": "text/x-python",
      "name": "python",
      "nbconvert_exporter": "python",
      "pygments_lexer": "ipython3",
      "version": "3.10.7"
    },
    "colab": {
      "provenance": [],
      "include_colab_link": true
    }
  },
  "nbformat": 4,
  "nbformat_minor": 5
}