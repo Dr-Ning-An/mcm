{
 "cells": [
  {
   "cell_type": "markdown",
   "id": "8ce9acc8",
   "metadata": {},
   "source": [
    "# <center>Python科学计算简单教程</center>\n",
    "### <center>安宁，四川大学，2022/11/9</center>"
   ]
  },
  {
   "cell_type": "markdown",
   "id": "52417f27",
   "metadata": {},
   "source": [
    "## 1. 学习目标\n",
    "\n",
    "* Numpy数组、矩阵运算；\n",
    "* Sympy求不等式；\n",
    "* 熟悉Jupyter Notebook。"
   ]
  },
  {
   "cell_type": "markdown",
   "id": "4b0afc91",
   "metadata": {},
   "source": [
    "## 2. 关于Jupyter Notebook软件的安装\n",
    "* 推荐初学者使用Anaconda；\n",
    "* Anaconda是一个用于科学计算的Python发行版，支持Linux，Mac，Windows，包含了众多流行的科学计算、数据分析的Python包；\n",
    "* 推荐中国用户访问清华大学开源软件镜像站下载最新版本 https://mirrors.tuna.tsinghua.edu.cn/anaconda/archive/"
   ]
  },
  {
   "cell_type": "markdown",
   "id": "e0885667",
   "metadata": {},
   "source": [
    "## 3 NumPy是什么？\n",
    "\n",
    "NumPy是使用Python进行科学计算的基础软件包。除其他外，它包括：\n",
    "* 功能强大的N维数组对象。\n",
    "* 精密广播功能函数。\n",
    "* 集成 C/C+和Fortran 代码的工具。\n",
    "* 强大的线性代数、傅立叶变换和随机数功能。"
   ]
  },
  {
   "cell_type": "markdown",
   "id": "f3d6071f",
   "metadata": {},
   "source": [
    "### 3.1 单数运算"
   ]
  },
  {
   "cell_type": "code",
   "execution_count": 1,
   "id": "d188468f",
   "metadata": {},
   "outputs": [],
   "source": [
    "# 导入numpy库函数\n",
    "import numpy as np"
   ]
  },
  {
   "cell_type": "code",
   "execution_count": 2,
   "id": "c1f72f51",
   "metadata": {},
   "outputs": [],
   "source": [
    "a = 1; #整数\n",
    "b = 1.5; #浮点数\n",
    "c = np.pi; #Pi"
   ]
  },
  {
   "cell_type": "code",
   "execution_count": 3,
   "id": "befef74b",
   "metadata": {},
   "outputs": [
    {
     "data": {
      "text/plain": [
       "2.5"
      ]
     },
     "execution_count": 3,
     "metadata": {},
     "output_type": "execute_result"
    }
   ],
   "source": [
    "a+b #加"
   ]
  },
  {
   "cell_type": "code",
   "execution_count": 4,
   "id": "3b4ab1f9",
   "metadata": {},
   "outputs": [
    {
     "data": {
      "text/plain": [
       "-0.5"
      ]
     },
     "execution_count": 4,
     "metadata": {},
     "output_type": "execute_result"
    }
   ],
   "source": [
    "a-b #减"
   ]
  },
  {
   "cell_type": "code",
   "execution_count": 5,
   "id": "ec518e29",
   "metadata": {},
   "outputs": [
    {
     "data": {
      "text/plain": [
       "1.5"
      ]
     },
     "execution_count": 5,
     "metadata": {},
     "output_type": "execute_result"
    }
   ],
   "source": [
    "a*b # 乘"
   ]
  },
  {
   "cell_type": "code",
   "execution_count": 6,
   "id": "e2932d38",
   "metadata": {},
   "outputs": [
    {
     "data": {
      "text/plain": [
       "0.6666666666666666"
      ]
     },
     "execution_count": 6,
     "metadata": {},
     "output_type": "execute_result"
    }
   ],
   "source": [
    "a/b # 除"
   ]
  },
  {
   "cell_type": "code",
   "execution_count": 7,
   "id": "aad984a8",
   "metadata": {},
   "outputs": [
    {
     "data": {
      "text/plain": [
       "2.25"
      ]
     },
     "execution_count": 7,
     "metadata": {},
     "output_type": "execute_result"
    }
   ],
   "source": [
    "b**2 # 平方"
   ]
  },
  {
   "cell_type": "code",
   "execution_count": 8,
   "id": "0e020928",
   "metadata": {},
   "outputs": [
    {
     "data": {
      "text/plain": [
       "1.224744871391589"
      ]
     },
     "execution_count": 8,
     "metadata": {},
     "output_type": "execute_result"
    }
   ],
   "source": [
    "np.sqrt(b) # 开方"
   ]
  },
  {
   "cell_type": "code",
   "execution_count": 9,
   "id": "c63bcc77",
   "metadata": {},
   "outputs": [
    {
     "data": {
      "text/plain": [
       "0.5000000000000001"
      ]
     },
     "execution_count": 9,
     "metadata": {},
     "output_type": "execute_result"
    }
   ],
   "source": [
    "np.cos(c/3) # 余弦"
   ]
  },
  {
   "cell_type": "code",
   "execution_count": 10,
   "id": "1ba0707f",
   "metadata": {},
   "outputs": [
    {
     "data": {
      "text/plain": [
       "0.8660254037844386"
      ]
     },
     "execution_count": 10,
     "metadata": {},
     "output_type": "execute_result"
    }
   ],
   "source": [
    "np.sin(c/3) # 正弦"
   ]
  },
  {
   "cell_type": "code",
   "execution_count": 11,
   "id": "647cb244",
   "metadata": {},
   "outputs": [
    {
     "data": {
      "text/plain": [
       "1.7320508075688767"
      ]
     },
     "execution_count": 11,
     "metadata": {},
     "output_type": "execute_result"
    }
   ],
   "source": [
    "np.tan(c/3) # 正切"
   ]
  },
  {
   "cell_type": "markdown",
   "id": "44131152",
   "metadata": {},
   "source": [
    "### 3.1 定义向量"
   ]
  },
  {
   "cell_type": "code",
   "execution_count": 12,
   "id": "fdd36e66",
   "metadata": {},
   "outputs": [
    {
     "name": "stdout",
     "output_type": "stream",
     "text": [
      "[1.1 2.2 3.3 4.4 5.5]\n",
      "1.1\n",
      "5\n",
      "1.1\n",
      "2.2\n",
      "3.3\n",
      "4.4\n",
      "5.5\n"
     ]
    }
   ],
   "source": [
    "# 直接指定向量中的每个元素\n",
    "x = np.array([1.1, 2.2, 3.3, 4.4, 5.5])\n",
    "print(x)\n",
    "print(x[0])\n",
    "print(len(x))\n",
    "# for loop\n",
    "for i in range(len(x)):\n",
    "    print(x[i])\n"
   ]
  },
  {
   "cell_type": "code",
   "execution_count": 13,
   "id": "5944489e",
   "metadata": {},
   "outputs": [
    {
     "name": "stdout",
     "output_type": "stream",
     "text": [
      "[ 0.          1.11111111  2.22222222  3.33333333  4.44444444  5.55555556\n",
      "  6.66666667  7.77777778  8.88888889 10.        ]\n",
      "10\n"
     ]
    }
   ],
   "source": [
    "# 利用函数np.linspace; 指定初始和末尾元素，及向量元素个数\n",
    "y = np.linspace(0, 10, 10)\n",
    "print(y)\n",
    "d = len(y)\n",
    "print(d)"
   ]
  },
  {
   "cell_type": "code",
   "execution_count": 14,
   "id": "ce42701f",
   "metadata": {},
   "outputs": [
    {
     "name": "stdout",
     "output_type": "stream",
     "text": [
      "[0 1 2]\n"
     ]
    }
   ],
   "source": [
    "# 利用函数np.arange(); 指定元素个数，生成自然数整数向量\n",
    "z = np.arange(3)\n",
    "print(z)"
   ]
  },
  {
   "cell_type": "code",
   "execution_count": 15,
   "id": "764ce532",
   "metadata": {},
   "outputs": [
    {
     "name": "stdout",
     "output_type": "stream",
     "text": [
      "[0. 0. 0.]\n",
      "[0. 1. 0.]\n"
     ]
    }
   ],
   "source": [
    "# 利用函数np.zeros(); 指定元素个数，初始化零元素向量\n",
    "z = np.zeros(3)\n",
    "print(z)\n",
    "z[1] = 1\n",
    "print(z)"
   ]
  },
  {
   "cell_type": "code",
   "execution_count": 16,
   "id": "5032829d",
   "metadata": {},
   "outputs": [
    {
     "name": "stdout",
     "output_type": "stream",
     "text": [
      "[1. 1. 1.]\n"
     ]
    }
   ],
   "source": [
    "# 利用函数np.ones(); 指定元素个数，初始化1元素向量\n",
    "z = np.ones(3)\n",
    "print(z)"
   ]
  },
  {
   "cell_type": "code",
   "execution_count": 17,
   "id": "23492a5a",
   "metadata": {},
   "outputs": [
    {
     "name": "stdout",
     "output_type": "stream",
     "text": [
      "[ 5.5 11.  16.5]\n"
     ]
    }
   ],
   "source": [
    "a = 5;\n",
    "z = np.array([1.1, 2.2, 3.3])\n",
    "# 向量与单数的乘积; 向量中的每一个元素与单数相乘\n",
    "print(z*a)"
   ]
  },
  {
   "cell_type": "markdown",
   "id": "afb580f4",
   "metadata": {},
   "source": [
    "### 3.2 定义矩阵"
   ]
  },
  {
   "cell_type": "code",
   "execution_count": 18,
   "id": "e08a8ea2",
   "metadata": {},
   "outputs": [
    {
     "name": "stdout",
     "output_type": "stream",
     "text": [
      "[[1 2 3]\n",
      " [4 5 6]]\n",
      "(2, 3)\n",
      "1\n",
      "2\n"
     ]
    }
   ],
   "source": [
    "# 指定矩阵的每个元素\n",
    "x = np.array([[1, 2, 3], \n",
    "              [4, 5, 6]])\n",
    "print(x)\n",
    "print(np.shape(x)) # 2行3列\n",
    "print(x[0,0]) # 打印矩阵的元素\n",
    "print(x[0,1])"
   ]
  },
  {
   "cell_type": "code",
   "execution_count": 19,
   "id": "611d58b8",
   "metadata": {},
   "outputs": [
    {
     "name": "stdout",
     "output_type": "stream",
     "text": [
      "[[1. 1. 1.]\n",
      " [1. 1. 1.]\n",
      " [1. 1. 1.]]\n",
      "[[0. 0. 0.]\n",
      " [0. 0. 0.]\n",
      " [0. 0. 0.]]\n",
      "[[1. 0. 0.]\n",
      " [0. 1. 0.]\n",
      " [0. 0. 1.]]\n"
     ]
    }
   ],
   "source": [
    "# 初始化1矩阵；\n",
    "x = np.ones((3, 3))\n",
    "print(x)\n",
    "# 初始化0矩阵\n",
    "y = np.zeros((3, 3))\n",
    "print(y)\n",
    "# 给矩阵特定位置元素赋值\n",
    "y[0,0] = 1\n",
    "y[1,1] = 1\n",
    "y[2,2] = 1\n",
    "print(y)"
   ]
  },
  {
   "cell_type": "code",
   "execution_count": 20,
   "id": "8a13e0b6",
   "metadata": {},
   "outputs": [
    {
     "name": "stdout",
     "output_type": "stream",
     "text": [
      "[[0. 0. 0.]\n",
      " [0. 0. 0.]\n",
      " [0. 0. 0.]]\n",
      "[[1. 0. 0.]\n",
      " [0. 1. 0.]\n",
      " [0. 0. 1.]]\n"
     ]
    }
   ],
   "source": [
    "z = np.zeros((3, 3))\n",
    "print(z)\n",
    "# 使用for循环给矩阵特定位置元素赋值\n",
    "for i in range(len(z[:,0])):\n",
    "    for j in range(len(z[0,:])):\n",
    "        if i==j:\n",
    "            z[i,j]=1\n",
    "print(z)"
   ]
  },
  {
   "cell_type": "code",
   "execution_count": 21,
   "id": "51140297",
   "metadata": {},
   "outputs": [
    {
     "name": "stdout",
     "output_type": "stream",
     "text": [
      "初始矩阵： [[1 2 3]\n",
      " [4 5 5]\n",
      " [7 8 9]]\n",
      "矩阵的转置 [[1 4 7]\n",
      " [2 5 8]\n",
      " [3 5 9]]\n"
     ]
    }
   ],
   "source": [
    "# 矩阵的转置\n",
    "x = np.array([[1,2,3],\n",
    "              [4,5,5],\n",
    "              [7,8,9]])\n",
    "x_T = x.T\n",
    "print(\"初始矩阵：\", x)\n",
    "print(\"矩阵的转置\", x_T)"
   ]
  },
  {
   "cell_type": "code",
   "execution_count": 22,
   "id": "554ca553",
   "metadata": {},
   "outputs": [
    {
     "name": "stdout",
     "output_type": "stream",
     "text": [
      "[[-0.83333333 -1.          0.83333333]\n",
      " [ 0.16666667  2.         -1.16666667]\n",
      " [ 0.5        -1.          0.5       ]]\n"
     ]
    }
   ],
   "source": [
    "# 矩阵的逆\n",
    "inv_x = np.linalg.inv(x)\n",
    "print(inv_x)"
   ]
  },
  {
   "cell_type": "code",
   "execution_count": 23,
   "id": "efe0c51b",
   "metadata": {},
   "outputs": [
    {
     "data": {
      "text/plain": [
       "array([[ 1.00000000e+00,  0.00000000e+00,  2.22044605e-16],\n",
       "       [ 4.44089210e-16,  1.00000000e+00, -4.44089210e-16],\n",
       "       [-3.88578059e-16,  0.00000000e+00,  1.00000000e+00]])"
      ]
     },
     "execution_count": 23,
     "metadata": {},
     "output_type": "execute_result"
    }
   ],
   "source": [
    "# 矩阵的乘法\n",
    "np.linalg.multi_dot([inv_x, x])"
   ]
  },
  {
   "cell_type": "code",
   "execution_count": 24,
   "id": "68c5689f",
   "metadata": {},
   "outputs": [
    {
     "data": {
      "text/plain": [
       "array([[1., 2., 3.],\n",
       "       [4., 5., 5.],\n",
       "       [7., 8., 9.]])"
      ]
     },
     "execution_count": 24,
     "metadata": {},
     "output_type": "execute_result"
    }
   ],
   "source": [
    "# 多个矩阵的乘积\n",
    "np.linalg.multi_dot([inv_x, x, x])"
   ]
  },
  {
   "cell_type": "markdown",
   "id": "cd942ab4",
   "metadata": {},
   "source": [
    "## 4 Sympy\n",
    "\n",
    "SymPy是Python的一个数学符号计算（Symbolic computation）库。它目的在于成为一个富有特色的计算机代数系统。\n",
    "\n",
    "与基于数值数组的计算相比，符号计算是一种精确计算，例如求导函数，求不定积分，求极限、解方程、微分方程、级数展开、矩阵运算等等计算问题。"
   ]
  },
  {
   "cell_type": "markdown",
   "id": "a7cb2d91",
   "metadata": {},
   "source": [
    "**SymPy最大的特点是它的符号变量。在SymPy中不得不显式地声明符号变量。符号变量不参与运算。**"
   ]
  },
  {
   "cell_type": "code",
   "execution_count": 25,
   "id": "cb794f48",
   "metadata": {},
   "outputs": [],
   "source": [
    "from sympy import *"
   ]
  },
  {
   "cell_type": "code",
   "execution_count": 26,
   "id": "bcf451c6",
   "metadata": {},
   "outputs": [],
   "source": [
    "x = Symbol('x') # 定义x为符号变量"
   ]
  },
  {
   "cell_type": "markdown",
   "id": "fe3134ee",
   "metadata": {},
   "source": [
    "**求微分** diff(func, var)"
   ]
  },
  {
   "cell_type": "code",
   "execution_count": 27,
   "id": "13eff808",
   "metadata": {},
   "outputs": [
    {
     "data": {
      "text/latex": [
       "$\\displaystyle 6 x$"
      ],
      "text/plain": [
       "6*x"
      ]
     },
     "execution_count": 27,
     "metadata": {},
     "output_type": "execute_result"
    }
   ],
   "source": [
    "from sympy import *\n",
    "x = Symbol('x')\n",
    "f = 3*x**2\n",
    "diff(f, x)"
   ]
  },
  {
   "cell_type": "markdown",
   "id": "50f252a1",
   "metadata": {},
   "source": [
    "**求高阶微分** diff(func, var, n)"
   ]
  },
  {
   "cell_type": "code",
   "execution_count": 28,
   "id": "c6df7adf",
   "metadata": {},
   "outputs": [
    {
     "data": {
      "text/latex": [
       "$\\displaystyle 6$"
      ],
      "text/plain": [
       "6"
      ]
     },
     "execution_count": 28,
     "metadata": {},
     "output_type": "execute_result"
    }
   ],
   "source": [
    "from sympy import *\n",
    "x = Symbol('x')\n",
    "f = 3*x**2\n",
    "diff(f, x, 2)"
   ]
  },
  {
   "cell_type": "markdown",
   "id": "7e70ea92",
   "metadata": {},
   "source": [
    "**求积分** integrate(func, var)"
   ]
  },
  {
   "cell_type": "code",
   "execution_count": 29,
   "id": "dd8874b5",
   "metadata": {},
   "outputs": [
    {
     "data": {
      "text/latex": [
       "$\\displaystyle \\frac{x^{2}}{2}$"
      ],
      "text/plain": [
       "x**2/2"
      ]
     },
     "execution_count": 29,
     "metadata": {},
     "output_type": "execute_result"
    }
   ],
   "source": [
    "integrate(x, x)"
   ]
  },
  {
   "cell_type": "code",
   "execution_count": 30,
   "id": "e6a10d01",
   "metadata": {},
   "outputs": [
    {
     "data": {
      "text/latex": [
       "$\\displaystyle \\log{\\left(x \\right)}$"
      ],
      "text/plain": [
       "log(x)"
      ]
     },
     "execution_count": 30,
     "metadata": {},
     "output_type": "execute_result"
    }
   ],
   "source": [
    "integrate(1/x, x)"
   ]
  },
  {
   "cell_type": "markdown",
   "id": "06e278c2",
   "metadata": {},
   "source": [
    "**求定积分** integrate(func, (var, low_limit, high_limit))"
   ]
  },
  {
   "cell_type": "code",
   "execution_count": 31,
   "id": "5922af02",
   "metadata": {},
   "outputs": [
    {
     "data": {
      "text/latex": [
       "$\\displaystyle 1$"
      ],
      "text/plain": [
       "1"
      ]
     },
     "execution_count": 31,
     "metadata": {},
     "output_type": "execute_result"
    }
   ],
   "source": [
    "integrate(sin(x), (x, 0, pi/2))"
   ]
  },
  {
   "cell_type": "markdown",
   "id": "97afe71a",
   "metadata": {},
   "source": [
    "**解不等式**solve()"
   ]
  },
  {
   "cell_type": "code",
   "execution_count": 32,
   "id": "187c7864",
   "metadata": {},
   "outputs": [
    {
     "data": {
      "text/latex": [
       "$\\displaystyle -1 < x \\wedge x < 1$"
      ],
      "text/plain": [
       "(-1 < x) & (x < 1)"
      ]
     },
     "execution_count": 32,
     "metadata": {},
     "output_type": "execute_result"
    }
   ],
   "source": [
    "solve(x**2<1)"
   ]
  },
  {
   "cell_type": "code",
   "execution_count": 33,
   "id": "3f3d7d0c",
   "metadata": {},
   "outputs": [
    {
     "data": {
      "text/latex": [
       "$\\displaystyle \\left(-\\infty < x \\wedge x < -1\\right) \\vee \\left(1 < x \\wedge x < \\infty\\right)$"
      ],
      "text/plain": [
       "((-oo < x) & (x < -1)) | ((1 < x) & (x < oo))"
      ]
     },
     "execution_count": 33,
     "metadata": {},
     "output_type": "execute_result"
    }
   ],
   "source": [
    "solve(x**2>1)"
   ]
  },
  {
   "cell_type": "code",
   "execution_count": 34,
   "id": "17135fb2",
   "metadata": {},
   "outputs": [
    {
     "data": {
      "text/latex": [
       "$\\displaystyle -0.8 < x \\wedge x < 0.5$"
      ],
      "text/plain": [
       "(-0.8 < x) & (x < 0.5)"
      ]
     },
     "execution_count": 34,
     "metadata": {},
     "output_type": "execute_result"
    }
   ],
   "source": [
    "# 多个不等式联立求解\n",
    "solve([x**2<1, x<0.5, x>-0.8])"
   ]
  },
  {
   "cell_type": "markdown",
   "id": "699374d3",
   "metadata": {},
   "source": [
    "## 5 Matplotlib是什么？\n",
    "\n",
    "Matplotlib 是一个 Python 的 2D绘图库，它以各种硬拷贝格式和跨平台的交互式环境生成出版质量级别的图形。可用于绘制线图、散点图、等高线图、条形图、柱状图、3D图形、甚至是图形动画等等。"
   ]
  },
  {
   "cell_type": "code",
   "execution_count": 35,
   "id": "3052b203",
   "metadata": {},
   "outputs": [
    {
     "data": {
      "image/png": "[encoded data removed]",
      "text/plain": [
       "<Figure size 640x480 with 1 Axes>"
      ]
     },
     "metadata": {},
     "output_type": "display_data"
    }
   ],
   "source": [
    "import matplotlib.pyplot as plt # 导入Matplotlib\n",
    "t = np.linspace(0, 10, 100)\n",
    "y1 = np.sin(t)\n",
    "y2 = np.cos(t)\n",
    "plt.title('y = sin(t), cos(t)')\n",
    "plt.plot(t, y1, 'k+', label='y=sin(t)')\n",
    "plt.plot(t, y2, 'ro', label='y=cos(t)')\n",
    "plt.xlabel('t')\n",
    "plt.ylabel('y')\n",
    "plt.legend()\n",
    "plt.show()"
   ]
  }
 ],
 "metadata": {
  "kernelspec": {
   "display_name": "Python 3 (ipykernel)",
   "language": "python",
   "name": "python3"
  },
  "language_info": {
   "codemirror_mode": {
    "name": "ipython",
    "version": 3
   },
   "file_extension": ".py",
   "mimetype": "text/x-python",
   "name": "python",
   "nbconvert_exporter": "python",
   "pygments_lexer": "ipython3",
   "version": "3.10.7"
  }
 },
 "nbformat": 4,
 "nbformat_minor": 5
}
